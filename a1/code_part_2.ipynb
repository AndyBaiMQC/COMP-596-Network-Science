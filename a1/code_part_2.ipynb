{
 "cells": [
  {
   "cell_type": "markdown",
   "metadata": {},
   "source": [
    "# Part 2"
   ]
  },
  {
   "cell_type": "markdown",
   "metadata": {},
   "source": [
    "## Reading from data files: email, powergrid, protein"
   ]
  },
  {
   "cell_type": "code",
   "execution_count": 1,
   "metadata": {},
   "outputs": [],
   "source": [
    "import numpy as np;\n",
    "\n",
    "meta = np.loadtxt('../networks/metabolic.edgelist.txt').astype(np.int64)\n",
    "power = np.loadtxt('../networks/powergrid.edgelist.txt').astype(np.int64)\n",
    "protein = np.loadtxt('../networks/protein.edgelist.txt').astype(np.int64)"
   ]
  },
  {
   "cell_type": "markdown",
   "metadata": {},
   "source": [
    "If we take the raw text data for graphs"
   ]
  },
  {
   "cell_type": "code",
   "execution_count": 2,
   "metadata": {},
   "outputs": [
    {
     "name": "stdout",
     "output_type": "stream",
     "text": [
      "Graph 1, edge/node:  5802 1038\n",
      "Graph 2, edge/node:  6594 4940\n",
      "Graph 3, edge/node:  2930 2017\n"
     ]
    }
   ],
   "source": [
    "# Get sizes of the three networks\n",
    "# meta\n",
    "print(\"Graph 1, edge/node: \", len(meta), np.amax(meta))\n",
    "# power\n",
    "print(\"Graph 2, edge/node: \", len(power), np.amax(power))\n",
    "# protein\n",
    "print(\"Graph 3, edge/node: \", len(protein), np.amax(protein))"
   ]
  },
  {
   "cell_type": "markdown",
   "metadata": {},
   "source": [
    "With all simplifications, the number of edges, taken as undirected (2 directions), are:"
   ]
  },
  {
   "cell_type": "code",
   "execution_count": 3,
   "metadata": {},
   "outputs": [
    {
     "name": "stdout",
     "output_type": "stream",
     "text": [
      "Edges for Graphs 1-3:  4741.0 6594.0 2705.0\n",
      "Edges for Graphs 1-3, undirected:  9482.0 13188.0 5410.0\n"
     ]
    }
   ],
   "source": [
    "def build_matrix(x):\n",
    "    a = np.zeros((np.amax(x)+1, np.amax(x)+1))\n",
    "    for i in range(len(x)):\n",
    "        a[x[i][0]][x[i][1]] = 1\n",
    "    # undirected\n",
    "    for i in range(len(a)):\n",
    "        for j in range(len(a)):\n",
    "            if i == j:\n",
    "                a[i][i] = 0\n",
    "            elif a[i][j] != a[j][i]:\n",
    "                a[i][j] = 1\n",
    "                a[j][i] = 1\n",
    "    return a\n",
    "\n",
    "a_meta = build_matrix(meta)\n",
    "a_power = build_matrix(power)\n",
    "a_protein = build_matrix(protein)\n",
    "print(\"Edges for Graphs 1-3: \", np.sum(a_meta)/2, np.sum(a_power)/2, np.sum(a_protein)/2)\n",
    "print(\"Edges for Graphs 1-3, undirected: \", np.sum(a_meta), np.sum(a_power), np.sum(a_protein))"
   ]
  },
  {
   "cell_type": "markdown",
   "metadata": {},
   "source": [
    "We will pass these valus to the model"
   ]
  },
  {
   "cell_type": "markdown",
   "metadata": {},
   "source": [
    "# Question 3"
   ]
  },
  {
   "cell_type": "code",
   "execution_count": 4,
   "metadata": {},
   "outputs": [],
   "source": [
    "# AB model implementation\n",
    "import random\n",
    "\n",
    "def random_subset_with_weights(weights, m):\n",
    "    mapped_weights = [\n",
    "        (random.expovariate(w), i)\n",
    "        for i, w in enumerate(weights)\n",
    "    ]\n",
    "    return { i for _, i in sorted(mapped_weights)[:m] }\n",
    "\n",
    "def barabasi_albert(n, m):\n",
    "    # initialize with a complete graph on m vertices\n",
    "    neighbours = [ set(range(m)) - {i} for i in range(m) ]\n",
    "    degrees = [ m-1 for i in range(m) ]\n",
    "\n",
    "    for i in range(m, n):\n",
    "        # stopping criterion if the number of edges is met\n",
    "        n_neighbours = random_subset_with_weights(degrees, m)\n",
    "\n",
    "        # add node with back-edges\n",
    "        neighbours.append(n_neighbours)\n",
    "        degrees.append(m)\n",
    "\n",
    "        # add forward-edges\n",
    "        for j in n_neighbours:\n",
    "            neighbours[j].add(i)\n",
    "            degrees[j] += 1\n",
    "    return neighbours\n",
    "\n",
    "def barabasi_albert_capped(n, m, deg_cap):\n",
    "    # initialize with a complete graph on m vertices\n",
    "    neighbours = [ set(range(m)) - {i} for i in range(m) ]\n",
    "    degrees = [ m-1 for i in range(m) ]\n",
    "\n",
    "    for i in range(m, n):\n",
    "        # stopping criterion if the number of edges is met\n",
    "        if sum(degrees) >= deg_cap:\n",
    "            break;\n",
    "        else:\n",
    "            n_neighbours = random_subset_with_weights(degrees, m)\n",
    "\n",
    "            # add node with back-edges\n",
    "            neighbours.append(n_neighbours)\n",
    "            degrees.append(m)\n",
    "\n",
    "            # add forward-edges\n",
    "            for j in n_neighbours:\n",
    "                neighbours[j].add(i)\n",
    "                degrees[j] += 1\n",
    "    \n",
    "    return neighbours"
   ]
  },
  {
   "cell_type": "markdown",
   "metadata": {},
   "source": [
    "The input is number of nodes - n which dictates the node size of the graph, as well as, m - initial number of nodes to start. For the sake of consistency in this section, we start with 3 nodes and try building the graph couting down nodes while respecting the capacity of edges. However, there are some problems to it and the following is used to only match the number of nodes."
   ]
  },
  {
   "cell_type": "code",
   "execution_count": 5,
   "metadata": {},
   "outputs": [],
   "source": [
    "one = barabasi_albert(1038, 2) # metabolism\n",
    "two = barabasi_albert(4940, 2) # powergrid\n",
    "three = barabasi_albert(2017, 2) # protein"
   ]
  },
  {
   "cell_type": "code",
   "execution_count": 7,
   "metadata": {},
   "outputs": [],
   "source": [
    "a_one = np.zeros((1038, 1038))\n",
    "for i in range(len(a_one)):\n",
    "    for item in list(one[i]):\n",
    "        a_one[i][item] = 1"
   ]
  },
  {
   "cell_type": "code",
   "execution_count": 8,
   "metadata": {},
   "outputs": [],
   "source": [
    "a_two = np.zeros((4940, 4940))\n",
    "for i in range(len(a_two)):\n",
    "    for item in list(two[i]):\n",
    "        a_two[i][item] = 1"
   ]
  },
  {
   "cell_type": "code",
   "execution_count": 9,
   "metadata": {},
   "outputs": [],
   "source": [
    "a_three = np.zeros((2017, 2017))\n",
    "for i in range(len(a_three)):\n",
    "    for item in list(three[i]):\n",
    "        a_three[i][item] = 1"
   ]
  },
  {
   "cell_type": "markdown",
   "metadata": {},
   "source": [
    "### The following analyses are done with the originally generated graphs"
   ]
  },
  {
   "cell_type": "markdown",
   "metadata": {},
   "source": [
    "### degree distribution"
   ]
  },
  {
   "cell_type": "code",
   "execution_count": 10,
   "metadata": {},
   "outputs": [],
   "source": [
    "one_deg = []\n",
    "two_deg = []\n",
    "three_deg = []\n",
    "for i in range(len(one)):\n",
    "    one_deg.append(len(one[i]))\n",
    "for i in range(len(two)):\n",
    "    two_deg.append(len(two[i]))\n",
    "for i in range(len(one)):\n",
    "    three_deg.append(len(three[i]))"
   ]
  },
  {
   "cell_type": "code",
   "execution_count": 82,
   "metadata": {},
   "outputs": [],
   "source": [
    "import matplotlib.pyplot as plt\n",
    "\n",
    "def get_degree(a):\n",
    "    my_list = a\n",
    "    freq = {}\n",
    "    k = []\n",
    "    v = []\n",
    "    for items in my_list: \n",
    "        freq[items] = my_list.count(items) \n",
    "    for key, value in freq.items(): \n",
    "        k.append(key)\n",
    "        v.append(value)\n",
    "    v[:] = [x / sum(v) for x in v]\n",
    "    x = np.log(k)\n",
    "    y = np.log(v)\n",
    "    fit = np.polyfit(x,y, 1)\n",
    "    print(fit)\n",
    "    print(\"Degree distribution\")\n",
    "    plt.plot(x, y)\n",
    "    plt.show()"
   ]
  },
  {
   "cell_type": "code",
   "execution_count": 52,
   "metadata": {},
   "outputs": [
    {
     "name": "stdout",
     "output_type": "stream",
     "text": [
      "[-1.69337888 -0.67269678]\n",
      "Degree distribution\n"
     ]
    },
    {
     "data": {
      "image/png": "[encoded data removed]",
      "text/plain": [
       "<Figure size 432x288 with 1 Axes>"
      ]
     },
     "metadata": {
      "needs_background": "light"
     },
     "output_type": "display_data"
    }
   ],
   "source": [
    "get_degree(one_deg)"
   ]
  },
  {
   "cell_type": "code",
   "execution_count": 53,
   "metadata": {},
   "outputs": [
    {
     "name": "stdout",
     "output_type": "stream",
     "text": [
      "[-1.95573416 -0.43836532]\n",
      "Degree distribution\n"
     ]
    },
    {
     "data": {
      "image/png": "[encoded data removed]",
      "text/plain": [
       "<Figure size 432x288 with 1 Axes>"
      ]
     },
     "metadata": {
      "needs_background": "light"
     },
     "output_type": "display_data"
    }
   ],
   "source": [
    "get_degree(two_deg)"
   ]
  },
  {
   "cell_type": "code",
   "execution_count": 54,
   "metadata": {},
   "outputs": [
    {
     "name": "stdout",
     "output_type": "stream",
     "text": [
      "[-1.65273012 -0.37599438]\n",
      "Degree distribution\n"
     ]
    },
    {
     "data": {
      "image/png": "[encoded data removed]",
      "text/plain": [
       "<Figure size 432x288 with 1 Axes>"
      ]
     },
     "metadata": {
      "needs_background": "light"
     },
     "output_type": "display_data"
    }
   ],
   "source": [
    "get_degree(three_deg)"
   ]
  },
  {
   "cell_type": "markdown",
   "metadata": {},
   "source": [
    "We can fit linear functions very nicely. Here the first number in the list is the slope"
   ]
  },
  {
   "cell_type": "markdown",
   "metadata": {},
   "source": [
    "### custering coefficient distribution"
   ]
  },
  {
   "cell_type": "code",
   "execution_count": 15,
   "metadata": {},
   "outputs": [],
   "source": [
    "def clustering_coeff(a):\n",
    "    c_local = []\n",
    "    a2 = a * a\n",
    "    a3 = a2 * a\n",
    "    a3_diag = np.diag(a3)\n",
    "    trace = np.trace(a3)\n",
    "    denom = np.sum(a2) - np.trace(a2)\n",
    "    print(\"Total number triangles: \", trace/6)\n",
    "    print(\"Global: \", trace/denom)\n",
    "    degree = np.multiply(np.sum(a, axis = 0), np.sum(a, axis = 0) - 1)\n",
    "    degree2 = np.multiply(np.sum(a, axis = 1), np.sum(a, axis = 1) - 1)\n",
    "    for i in range(len(degree)):\n",
    "        if degree[i] == 0:\n",
    "            c_local.append(0)\n",
    "        else:\n",
    "            c_local.append(a3_diag[i]/degree[i])\n",
    "    print(\"Clustering coefficient, first 10: \", c_local[0:10])\n",
    "    print(\"Max clustering coefficient: \", max(c_local))\n",
    "    print(\"Min clustering coefficient: \", min(c_local))\n",
    "    plt.hist(a, bins='auto')\n",
    "    plt.show()"
   ]
  },
  {
   "cell_type": "code",
   "execution_count": 16,
   "metadata": {},
   "outputs": [
    {
     "name": "stdout",
     "output_type": "stream",
     "text": [
      "Total number triangles:  0.0\n",
      "Global:  0.0\n",
      "Clustering coefficient, first 10:  [0.0, 0.0, 0.0, 0.0, 0.0, 0.0, 0.0, 0.0, 0.0, 0.0]\n",
      "Max clustering coefficient:  0.0\n",
      "Min clustering coefficient:  0.0\n"
     ]
    },
    {
     "data": {
      "image/png": "[encoded data removed]",
      "text/plain": [
       "<Figure size 432x288 with 1 Axes>"
      ]
     },
     "metadata": {
      "needs_background": "light"
     },
     "output_type": "display_data"
    }
   ],
   "source": [
    "clustering_coeff(a_one)"
   ]
  },
  {
   "cell_type": "code",
   "execution_count": 17,
   "metadata": {},
   "outputs": [
    {
     "name": "stdout",
     "output_type": "stream",
     "text": [
      "Total number triangles:  0.0\n",
      "Global:  0.0\n",
      "Clustering coefficient, first 10:  [0.0, 0.0, 0.0, 0.0, 0.0, 0.0, 0.0, 0.0, 0.0, 0.0]\n",
      "Max clustering coefficient:  0.0\n",
      "Min clustering coefficient:  0.0\n"
     ]
    },
    {
     "data": {
      "image/png": "[encoded data removed]",
      "text/plain": [
       "<Figure size 432x288 with 1 Axes>"
      ]
     },
     "metadata": {
      "needs_background": "light"
     },
     "output_type": "display_data"
    }
   ],
   "source": [
    "clustering_coeff(a_two)"
   ]
  },
  {
   "cell_type": "code",
   "execution_count": 18,
   "metadata": {},
   "outputs": [
    {
     "name": "stdout",
     "output_type": "stream",
     "text": [
      "Total number triangles:  0.0\n",
      "Global:  0.0\n",
      "Clustering coefficient, first 10:  [0.0, 0.0, 0.0, 0.0, 0.0, 0.0, 0.0, 0.0, 0.0, 0.0]\n",
      "Max clustering coefficient:  0.0\n",
      "Min clustering coefficient:  0.0\n"
     ]
    },
    {
     "data": {
      "image/png": "[encoded data removed]",
      "text/plain": [
       "<Figure size 432x288 with 1 Axes>"
      ]
     },
     "metadata": {
      "needs_background": "light"
     },
     "output_type": "display_data"
    }
   ],
   "source": [
    "clustering_coeff(a_three)"
   ]
  },
  {
   "cell_type": "markdown",
   "metadata": {},
   "source": [
    "Since traces are all zero, the values are all zero."
   ]
  },
  {
   "cell_type": "markdown",
   "metadata": {},
   "source": [
    "### shortest paths distribution number of connected components"
   ]
  },
  {
   "cell_type": "code",
   "execution_count": 19,
   "metadata": {},
   "outputs": [],
   "source": [
    "from scipy.sparse import csr_matrix\n",
    "from scipy.sparse.csgraph import shortest_path\n",
    "from scipy.sparse.csgraph import breadth_first_order\n",
    "from scipy.sparse.csgraph import depth_first_order\n",
    "from scipy.sparse.csgraph import connected_components\n",
    "\n",
    "names = ['One', 'Two', 'Three']\n",
    "mats = [a_one, a_two, a_three]"
   ]
  },
  {
   "cell_type": "code",
   "execution_count": 20,
   "metadata": {},
   "outputs": [
    {
     "name": "stdout",
     "output_type": "stream",
     "text": [
      "One\n",
      "Distribution vector:  [   0    1    2 ... 1007  954  841]\n",
      "Predecessors:  [ 1  0  0 ...  2 48 24]\n",
      "Histograms for shortest path distributions and predecessors\n",
      "\n"
     ]
    },
    {
     "data": {
      "image/png": "[encoded data removed]",
      "text/plain": [
       "<Figure size 432x288 with 1 Axes>"
      ]
     },
     "metadata": {
      "needs_background": "light"
     },
     "output_type": "display_data"
    },
    {
     "name": "stdout",
     "output_type": "stream",
     "text": [
      "-----------------\n",
      "Two\n",
      "Distribution vector:  [   0    1    2 ... 3156 4067 4236]\n",
      "Predecessors:  [   1    0    0 ... 1724 4520 1554]\n",
      "Histograms for shortest path distributions and predecessors\n",
      "\n"
     ]
    },
    {
     "data": {
      "image/png": "[encoded data removed]",
      "text/plain": [
       "<Figure size 432x288 with 1 Axes>"
      ]
     },
     "metadata": {
      "needs_background": "light"
     },
     "output_type": "display_data"
    },
    {
     "name": "stdout",
     "output_type": "stream",
     "text": [
      "-----------------\n",
      "Three\n",
      "Distribution vector:  [   0    1    2 ... 1561 1872 2005]\n",
      "Predecessors:  [   1    0    0 ...   63 1059   52]\n",
      "Histograms for shortest path distributions and predecessors\n",
      "\n"
     ]
    },
    {
     "data": {
      "image/png": "[encoded data removed]",
      "text/plain": [
       "<Figure size 432x288 with 1 Axes>"
      ]
     },
     "metadata": {
      "needs_background": "light"
     },
     "output_type": "display_data"
    },
    {
     "name": "stdout",
     "output_type": "stream",
     "text": [
      "-----------------\n"
     ]
    }
   ],
   "source": [
    "for i in range(len(names)):\n",
    "    graph = mats[i]\n",
    "    graph = csr_matrix(graph)\n",
    "    dist_matrix = breadth_first_order(csgraph=graph, i_start=0)[0]\n",
    "    predecessors = breadth_first_order(csgraph=graph, i_start=0)[1]\n",
    "    predecessors[0] = breadth_first_order(csgraph=graph, i_start=1)[1][0]\n",
    "    for j in range(len(predecessors)):\n",
    "        if predecessors[j] == -9999:\n",
    "            predecessors[j] = breadth_first_order(csgraph=graph, i_start=j+1)[1][j]\n",
    "    \n",
    "    print(names[i])\n",
    "    print(\"Distribution vector: \", dist_matrix)\n",
    "    print(\"Predecessors: \", predecessors)\n",
    "    print(\"Histograms for shortest path distributions and predecessors\\n\")\n",
    "    plt.hist([dist_matrix, predecessors], bins = 'auto', label=['dist', 'pred'])\n",
    "    plt.legend(loc='upper right')\n",
    "    plt.show()\n",
    "    print(\"-----------------\")"
   ]
  },
  {
   "cell_type": "markdown",
   "metadata": {},
   "source": [
    "The predecessor vector values are much more skewed towards lower end while those of distribution matrices are very well spread. Some nodes are much more connected while the rest are much less. It confirms the 'rich get richer' conundrum."
   ]
  },
  {
   "cell_type": "code",
   "execution_count": 21,
   "metadata": {},
   "outputs": [
    {
     "name": "stdout",
     "output_type": "stream",
     "text": [
      "One\n",
      "Number of connected components:  1\n",
      "Labels:  [0 0 0 ... 0 0 0]\n",
      "Fraction:  0.0009633911368015414\n",
      "-----------------\n",
      "Two\n",
      "Number of connected components:  1\n",
      "Labels:  [0 0 0 ... 0 0 0]\n",
      "Fraction:  0.00020242914979757084\n",
      "-----------------\n",
      "Three\n",
      "Number of connected components:  1\n",
      "Labels:  [0 0 0 ... 0 0 0]\n",
      "Fraction:  0.0004957858205255329\n",
      "-----------------\n"
     ]
    }
   ],
   "source": [
    "for i in range(len(names)):\n",
    "    graph = mats[i]\n",
    "    graph = csr_matrix(graph)\n",
    "    dist_matrix = connected_components(csgraph=graph, directed=False, return_labels=True)[0]\n",
    "    predecessors = connected_components(csgraph=graph, directed=False, return_labels=True)[1]\n",
    "    print(names[i])\n",
    "    print('Number of connected components: ', dist_matrix)\n",
    "    print('Labels: ', predecessors)\n",
    "    print('Fraction: ',len(np.unique(predecessors))/len(mats[i]))\n",
    "    print(\"-----------------\")"
   ]
  },
  {
   "cell_type": "markdown",
   "metadata": {},
   "source": [
    "There is only 1 in GCC"
   ]
  },
  {
   "cell_type": "markdown",
   "metadata": {},
   "source": [
    "### eigenvalue distribution"
   ]
  },
  {
   "cell_type": "code",
   "execution_count": 22,
   "metadata": {},
   "outputs": [],
   "source": [
    "from scipy.sparse.linalg import eigs\n",
    "\n",
    "def eigenvalues(a):\n",
    "    l = np.zeros(np.shape(a))\n",
    "    d_i = np.sum(a, axis = 0)\n",
    "    for i in range(len(a)):\n",
    "        for j in range(len(a)):\n",
    "            if i == j:\n",
    "                l[i][j] = d_i[i] - a[i][j]\n",
    "            else:\n",
    "                l[i][j] = -a[i][j]\n",
    "    vals, vecs = eigs(l, k = 100)\n",
    "    print(\"First 100 eigenvalues: \\n\", vals.real)\n",
    "    print(\"Spectral Gap, smallest non-zero eigenvalue for the first 100: \", np.amin(vals.real))"
   ]
  },
  {
   "cell_type": "code",
   "execution_count": 23,
   "metadata": {},
   "outputs": [
    {
     "name": "stdout",
     "output_type": "stream",
     "text": [
      "First 100 eigenvalues: \n",
      " [102.05521777  61.36122693  57.86836162  49.07238684  45.11660979\n",
      "  44.2017448   42.77100739  41.98860484  32.37518507  31.44372381\n",
      "  29.07574337  28.75553207  28.64773623  22.09371301  21.85017486\n",
      "  21.15381948  20.97266458  20.73078091  20.11543885  19.93094085\n",
      "  18.74543295  18.32583458  16.23782461  16.17735616  16.15975529\n",
      "  15.97740865  15.93152314  15.87845801  14.78861499  14.29142139\n",
      "  14.17753208  14.01731904  13.62329072  13.34205331  12.89776933\n",
      "  12.72027018  12.51305684  12.41733904  11.97383259  11.50802843\n",
      "  11.44386277  11.41085756  11.27700435  11.23476915  11.21955105\n",
      "  11.20737659  11.02925909  10.95768719  10.8608926   10.76229435\n",
      "  10.58997014  10.57383329  10.54564365  10.41093942  10.38434219\n",
      "  10.30828258  10.24257019  10.25832344  10.16796867   9.99540648\n",
      "   9.94570396   9.84678326   9.65067775   9.51678307   9.50188927\n",
      "   9.3708234    9.29675108   9.19072595   9.15730719   9.13690726\n",
      "   9.0968882    9.02106231   8.9625121    8.92082499   8.86020021\n",
      "   8.83772555   8.74371865   8.6947344    8.5716959    8.53915842\n",
      "   8.53586607   8.45667118   8.42430757   8.38719557   8.33413545\n",
      "   8.31026274   8.29147675   8.21414261   8.19074608   8.07949163\n",
      "   7.97457743   7.9555335    7.94762125   7.88633205   7.87684497\n",
      "   7.85310645   7.84552926   7.82661684   7.79959204   7.78394185]\n",
      "Spectral Gap, smallest non-zero eigenvalue for the first 100:  7.783941850853903\n"
     ]
    }
   ],
   "source": [
    "eigenvalues(a_one)"
   ]
  },
  {
   "cell_type": "code",
   "execution_count": 24,
   "metadata": {},
   "outputs": [
    {
     "name": "stdout",
     "output_type": "stream",
     "text": [
      "First 100 eigenvalues: \n",
      " [152.28741692 147.92502376 137.95699722 122.05861395  89.07973713\n",
      "  76.22864176  71.84359955  71.00529296  70.0362286   65.03296383\n",
      "  61.11357143  56.02195568  53.89368391  53.02920831  49.24851365\n",
      "  43.06236268  42.39751384  41.13256894  41.10722315  38.68984935\n",
      "  37.21677532  35.08509859  35.02194241  33.08393924  32.98897384\n",
      "  32.89206772  32.19880564  32.08665768  31.99771367  32.04058469\n",
      "  31.00196399  30.18459003  30.09593589  30.09083048  30.13667162\n",
      "  29.22604275  29.05378923  28.16856588  27.95756567  28.09334904\n",
      "  28.05730367  28.04925715  27.43900817  27.14154552  27.07965638\n",
      "  27.00411354  25.92878897  25.16919265  24.77828817  24.51500932\n",
      "  24.36252498  24.27119707  24.14756274  23.83009357  23.15105232\n",
      "  23.01959744  22.98044815  22.6888324   22.27742897  22.00699523\n",
      "  21.87664315  21.94352428  21.19670631  21.02120264  20.99733042\n",
      "  20.96968989  20.91093656  20.85150011  20.87926082  20.42491522\n",
      "  20.40515024  20.34628917  20.1666042   20.01277053  20.00660173\n",
      "  19.93953055  19.90445324  19.45923554  19.23160997  19.18905887\n",
      "  19.0586045   18.98915216  18.75577146  18.43584559  18.41877568\n",
      "  18.38516363  18.3343593   18.24946986  18.15704951  18.11939265\n",
      "  18.06937602  17.86050097  17.8213011   17.84478647  17.72502407\n",
      "  17.71713087  17.73564134  17.49527449  17.3594119   17.30931229]\n",
      "Spectral Gap, smallest non-zero eigenvalue for the first 100:  17.30931229469935\n"
     ]
    }
   ],
   "source": [
    "eigenvalues(a_two)"
   ]
  },
  {
   "cell_type": "code",
   "execution_count": 25,
   "metadata": {},
   "outputs": [
    {
     "name": "stdout",
     "output_type": "stream",
     "text": [
      "First 100 eigenvalues: \n",
      " [114.10412894  94.59764901  92.55919976  75.03194834  64.99770634\n",
      "  63.9496844   46.13136637  45.9760032   38.10158711  33.01392355\n",
      "  31.17547757  29.29316351  28.05900879  26.08968622  26.12946407\n",
      "  25.84256819  25.27550791  25.17478965  25.09005249  24.92999406\n",
      "  23.29704559  23.17492514  23.05350258  22.97229845  22.84187081\n",
      "  22.21456998  21.14009366  21.07714197  20.20649956  19.99417416\n",
      "  19.02266207  18.72642564  18.30250017  18.16157405  18.12070426\n",
      "  17.84884092  17.76038255  17.17022465  16.79418879  16.60380164\n",
      "  16.30358846  16.26203004  16.11891002  15.65152054  15.59395715\n",
      "  15.53660465  15.18760825  15.1411815   15.10241871  15.0657644\n",
      "  14.98621061  14.85731408  14.83266387  14.55003749  14.37939937\n",
      "  14.35540686  14.34210221  14.27190181  14.23431487  14.18066304\n",
      "  14.09955352  14.00523444  13.77977282  13.51324822  13.4893056\n",
      "  13.45613793  13.34609875  13.24722714  13.2171924   13.15518968\n",
      "  13.00944506  12.96105598  12.83764134  12.79915008  12.64770021\n",
      "  12.61136301  12.56849994  12.51586337  12.46767747  12.38658176\n",
      "  12.36479401  12.33493046  12.15296258  12.14191015  12.08001627\n",
      "  11.99325371  11.80925691  11.73656481  11.7092937   11.64238821\n",
      "  11.58413329  11.47871565  11.44802352  11.43473579  11.40350687\n",
      "  11.37074522  11.19817393  11.16706812  11.15228445  11.059209  ]\n",
      "Spectral Gap, smallest non-zero eigenvalue for the first 100:  11.05920900217497\n"
     ]
    }
   ],
   "source": [
    "eigenvalues(a_three)"
   ]
  },
  {
   "cell_type": "markdown",
   "metadata": {},
   "source": [
    "### degree correlations"
   ]
  },
  {
   "cell_type": "code",
   "execution_count": 26,
   "metadata": {},
   "outputs": [],
   "source": [
    "from scipy.stats.stats import pearsonr \n",
    "\n",
    "def scatter(a):\n",
    "    d_i = np.sum(a, axis = 0)\n",
    "    d_j = np.sum(a, axis = 1)\n",
    "    plt.scatter(d_i, d_j)\n",
    "    print(\"Pearson Correlation Coefficient: \", pearsonr(d_i,d_j)[0])"
   ]
  },
  {
   "cell_type": "code",
   "execution_count": 27,
   "metadata": {},
   "outputs": [
    {
     "name": "stdout",
     "output_type": "stream",
     "text": [
      "Pearson Correlation Coefficient:  1.0\n"
     ]
    },
    {
     "data": {
      "image/png": "[encoded data removed]",
      "text/plain": [
       "<Figure size 432x288 with 1 Axes>"
      ]
     },
     "metadata": {
      "needs_background": "light"
     },
     "output_type": "display_data"
    }
   ],
   "source": [
    "scatter(a_one)"
   ]
  },
  {
   "cell_type": "code",
   "execution_count": 28,
   "metadata": {},
   "outputs": [
    {
     "name": "stdout",
     "output_type": "stream",
     "text": [
      "Pearson Correlation Coefficient:  0.9999999999999956\n"
     ]
    },
    {
     "data": {
      "image/png": "[encoded data removed]",
      "text/plain": [
       "<Figure size 432x288 with 1 Axes>"
      ]
     },
     "metadata": {
      "needs_background": "light"
     },
     "output_type": "display_data"
    }
   ],
   "source": [
    "scatter(a_two)"
   ]
  },
  {
   "cell_type": "code",
   "execution_count": 29,
   "metadata": {},
   "outputs": [
    {
     "name": "stdout",
     "output_type": "stream",
     "text": [
      "Pearson Correlation Coefficient:  0.9999999999999976\n"
     ]
    },
    {
     "data": {
      "image/png": "[encoded data removed]",
      "text/plain": [
       "<Figure size 432x288 with 1 Axes>"
      ]
     },
     "metadata": {
      "needs_background": "light"
     },
     "output_type": "display_data"
    }
   ],
   "source": [
    "scatter(a_three)"
   ]
  },
  {
   "cell_type": "markdown",
   "metadata": {},
   "source": [
    "Very high correlation irrespective of number of nodes/edges."
   ]
  },
  {
   "cell_type": "markdown",
   "metadata": {},
   "source": [
    "## degree-clustering coefficient relation"
   ]
  },
  {
   "cell_type": "code",
   "execution_count": 30,
   "metadata": {},
   "outputs": [],
   "source": [
    "def d_c(a):\n",
    "    c_local = []\n",
    "    a2 = a * a\n",
    "    a3 = a2 * a\n",
    "    a3_diag = np.diag(a3)\n",
    "    degree = np.multiply(np.sum(a, axis = 0), np.sum(a, axis = 0) - 1)\n",
    "    degree2 = np.multiply(np.sum(a, axis = 1), np.sum(a, axis = 1) - 1)\n",
    "    for i in range(len(degree)):\n",
    "        if degree[i] == 0:\n",
    "            c_local.append(0)\n",
    "        else:\n",
    "            c_local.append(a3_diag[i]/degree[i])\n",
    "    d_i = np.sum(a, axis = 0)\n",
    "    plt.scatter(d_i,c_local)"
   ]
  },
  {
   "cell_type": "code",
   "execution_count": 31,
   "metadata": {},
   "outputs": [
    {
     "data": {
      "image/png": "[encoded data removed]",
      "text/plain": [
       "<Figure size 432x288 with 1 Axes>"
      ]
     },
     "metadata": {
      "needs_background": "light"
     },
     "output_type": "display_data"
    }
   ],
   "source": [
    "d_c(a_one)"
   ]
  },
  {
   "cell_type": "code",
   "execution_count": 32,
   "metadata": {},
   "outputs": [
    {
     "data": {
      "image/png": "[encoded data removed]",
      "text/plain": [
       "<Figure size 432x288 with 1 Axes>"
      ]
     },
     "metadata": {
      "needs_background": "light"
     },
     "output_type": "display_data"
    }
   ],
   "source": [
    "d_c(a_two)"
   ]
  },
  {
   "cell_type": "code",
   "execution_count": 33,
   "metadata": {},
   "outputs": [
    {
     "data": {
      "image/png": "[encoded data removed]",
      "text/plain": [
       "<Figure size 432x288 with 1 Axes>"
      ]
     },
     "metadata": {
      "needs_background": "light"
     },
     "output_type": "display_data"
    }
   ],
   "source": [
    "d_c(a_three)"
   ]
  },
  {
   "cell_type": "markdown",
   "metadata": {},
   "source": [
    "This would be zero since clustering coefficients are zero."
   ]
  },
  {
   "cell_type": "markdown",
   "metadata": {},
   "source": [
    "### Extension"
   ]
  },
  {
   "cell_type": "markdown",
   "metadata": {},
   "source": [
    "#### Try another randomization method for the smallest graph"
   ]
  },
  {
   "cell_type": "code",
   "execution_count": 74,
   "metadata": {},
   "outputs": [],
   "source": [
    "def random_subset_with_weights_pareto(weights, m):\n",
    "    mapped_weights = [\n",
    "        (random.paretovariate(w), i)\n",
    "        for i, w in enumerate(weights)\n",
    "    ]\n",
    "    return { i for _, i in sorted(mapped_weights)[:m] }\n",
    "\n",
    "def barabasi_albert_one(n, m):\n",
    "    # initialize with a complete graph on m vertices\n",
    "    neighbours = [ set(range(m)) - {i} for i in range(m) ]\n",
    "    degrees = [ m-1 for i in range(m) ]\n",
    "\n",
    "    for i in range(m, n):\n",
    "        # stopping criterion if the number of edges is met\n",
    "        n_neighbours = random_subset_with_weights_beta(degrees, m)\n",
    "\n",
    "        # add node with back-edges\n",
    "        neighbours.append(n_neighbours)\n",
    "        degrees.append(m)\n",
    "\n",
    "        # add forward-edges\n",
    "        for j in n_neighbours:\n",
    "            neighbours[j].add(i)\n",
    "            degrees[j] += 1\n",
    "    return neighbours"
   ]
  },
  {
   "cell_type": "code",
   "execution_count": 75,
   "metadata": {},
   "outputs": [],
   "source": [
    "four = barabasi_albert_one(1038, 2)\n",
    "a_four = np.zeros((1038, 1038))\n",
    "for i in range(len(a_four)):\n",
    "    for item in list(four[i]):\n",
    "        a_four[i][item] = 1"
   ]
  },
  {
   "cell_type": "code",
   "execution_count": 76,
   "metadata": {},
   "outputs": [],
   "source": [
    "four_deg = []\n",
    "for i in range(len(four)):\n",
    "    four_deg.append(len(four[i]))"
   ]
  },
  {
   "cell_type": "code",
   "execution_count": 83,
   "metadata": {},
   "outputs": [
    {
     "name": "stdout",
     "output_type": "stream",
     "text": [
      "[-1.99588874  0.00895811]\n",
      "Degree distribution\n"
     ]
    },
    {
     "data": {
      "image/png": "[encoded data removed]",
      "text/plain": [
       "<Figure size 432x288 with 1 Axes>"
      ]
     },
     "metadata": {
      "needs_background": "light"
     },
     "output_type": "display_data"
    }
   ],
   "source": [
    "get_degree(four_deg)"
   ]
  },
  {
   "cell_type": "markdown",
   "metadata": {},
   "source": [
    "There are only slight differences in coefficients but overall the trends are same. It means the randomization process won't revolutionarily change things."
   ]
  },
  {
   "cell_type": "code",
   "execution_count": 84,
   "metadata": {},
   "outputs": [
    {
     "name": "stdout",
     "output_type": "stream",
     "text": [
      "Total number triangles:  0.0\n",
      "Global:  0.0\n",
      "Clustering coefficient, first 10:  [0.0, 0.0, 0.0, 0.0, 0.0, 0.0, 0.0, 0.0, 0.0, 0.0]\n",
      "Max clustering coefficient:  0.0\n",
      "Min clustering coefficient:  0.0\n"
     ]
    },
    {
     "data": {
      "image/png": "[encoded data removed]",
      "text/plain": [
       "<Figure size 432x288 with 1 Axes>"
      ]
     },
     "metadata": {
      "needs_background": "light"
     },
     "output_type": "display_data"
    }
   ],
   "source": [
    "clustering_coeff(a_four)"
   ]
  },
  {
   "cell_type": "code",
   "execution_count": 85,
   "metadata": {},
   "outputs": [
    {
     "name": "stdout",
     "output_type": "stream",
     "text": [
      "Four\n",
      "Distribution vector:  [  0   1   2 ... 958 798 937]\n",
      "Predecessors:  [ 1  0  0 ... 31  2 10]\n",
      "Histograms for shortest path distributions and predecessors\n",
      "\n"
     ]
    },
    {
     "data": {
      "image/png": "[encoded data removed]",
      "text/plain": [
       "<Figure size 432x288 with 1 Axes>"
      ]
     },
     "metadata": {
      "needs_background": "light"
     },
     "output_type": "display_data"
    },
    {
     "name": "stdout",
     "output_type": "stream",
     "text": [
      "-----------------\n"
     ]
    }
   ],
   "source": [
    "names2 = ['Four']\n",
    "mats2 = [a_four]\n",
    "\n",
    "for i in range(len(names2)):\n",
    "    graph = mats2[i]\n",
    "    graph = csr_matrix(graph)\n",
    "    dist_matrix = breadth_first_order(csgraph=graph, i_start=0)[0]\n",
    "    predecessors = breadth_first_order(csgraph=graph, i_start=0)[1]\n",
    "    predecessors[0] = breadth_first_order(csgraph=graph, i_start=1)[1][0]\n",
    "    for j in range(len(predecessors)):\n",
    "        if predecessors[j] == -9999:\n",
    "            predecessors[j] = breadth_first_order(csgraph=graph, i_start=j+1)[1][j]\n",
    "    \n",
    "    print(names2[i])\n",
    "    print(\"Distribution vector: \", dist_matrix)\n",
    "    print(\"Predecessors: \", predecessors)\n",
    "    print(\"Histograms for shortest path distributions and predecessors\\n\")\n",
    "    plt.hist([dist_matrix, predecessors], bins = 'auto', label=['dist', 'pred'])\n",
    "    plt.legend(loc='upper right')\n",
    "    plt.show()\n",
    "    print(\"-----------------\")"
   ]
  },
  {
   "cell_type": "code",
   "execution_count": 86,
   "metadata": {},
   "outputs": [
    {
     "name": "stdout",
     "output_type": "stream",
     "text": [
      "First 100 eigenvalues: \n",
      " [77.11601743 41.35560575 37.8957354  36.28451538 35.34951753 32.13762735\n",
      " 31.25539453 29.99519244 28.9276927  28.85288126 26.39865573 24.76792543\n",
      " 24.51949542 24.19625225 24.257059   22.1593592  21.97197673 21.10656013\n",
      " 20.5775282  20.44401837 20.04823442 19.94833797 19.43755713 18.55620201\n",
      " 17.54980957 17.37225521 17.31310769 17.21826584 17.13114483 16.33220079\n",
      " 16.28622731 16.13130556 15.93774661 15.89802961 15.75096667 15.29173983\n",
      " 14.91930542 14.23804544 14.24445417 14.01515158 13.95870142 13.82491531\n",
      " 13.68762551 13.66154511 13.60787549 13.41409974 13.21815829 13.09764242\n",
      " 12.97737171 12.90915195 12.85873631 12.48049328 12.05452233 11.87117486\n",
      " 11.83368055 11.55218661 11.34843658 11.06583203 10.93845173 10.89860018\n",
      " 10.85302662 10.81535769 10.55609542 10.48864618 10.46622846 10.40635596\n",
      " 10.37920106 10.26342745 10.12947982 10.11268739  9.96281579  9.93472573\n",
      "  9.84958445  9.53189286  9.48013672  9.39637294  9.36781137  9.3496561\n",
      "  9.23555128  9.1299522   9.10724747  9.09491548  9.06219999  9.00106713\n",
      "  8.94986013  8.94189165  8.90653971  8.85336457  8.78107442  8.64518224\n",
      "  8.62123524  8.54586391  8.50356547  8.4111222   8.42349275  8.27893706\n",
      "  8.26340347  8.22577388  8.15598959  8.09363693]\n",
      "Spectral Gap, smallest non-zero eigenvalue for the first 100:  8.09363692988137\n"
     ]
    }
   ],
   "source": [
    "eigenvalues(a_four)"
   ]
  },
  {
   "cell_type": "code",
   "execution_count": 87,
   "metadata": {},
   "outputs": [
    {
     "name": "stdout",
     "output_type": "stream",
     "text": [
      "Pearson Correlation Coefficient:  0.9999999999999998\n"
     ]
    },
    {
     "data": {
      "image/png": "[encoded data removed]",
      "text/plain": [
       "<Figure size 432x288 with 1 Axes>"
      ]
     },
     "metadata": {
      "needs_background": "light"
     },
     "output_type": "display_data"
    }
   ],
   "source": [
    "scatter(a_four)"
   ]
  },
  {
   "cell_type": "code",
   "execution_count": 88,
   "metadata": {},
   "outputs": [
    {
     "data": {
      "image/png": "[encoded data removed]",
      "text/plain": [
       "<Figure size 432x288 with 1 Axes>"
      ]
     },
     "metadata": {
      "needs_background": "light"
     },
     "output_type": "display_data"
    }
   ],
   "source": [
    "d_c(a_four)"
   ]
  },
  {
   "cell_type": "markdown",
   "metadata": {},
   "source": [
    "The rest confirm the same story"
   ]
  },
  {
   "cell_type": "markdown",
   "metadata": {},
   "source": [
    "#### Try with more initial points. This will increase number of edges."
   ]
  },
  {
   "cell_type": "code",
   "execution_count": 93,
   "metadata": {},
   "outputs": [],
   "source": [
    "five = barabasi_albert(1038, 5)\n",
    "a_five = np.zeros((1038, 1038))\n",
    "for i in range(len(a_five)):\n",
    "    for item in list(five[i]):\n",
    "        a_five[i][item] = 1\n",
    "five_deg = []\n",
    "for i in range(len(five)):\n",
    "    five_deg.append(len(five[i]))"
   ]
  },
  {
   "cell_type": "code",
   "execution_count": 94,
   "metadata": {},
   "outputs": [
    {
     "name": "stdout",
     "output_type": "stream",
     "text": [
      "[-1.99588874  0.00895811]\n",
      "Degree distribution\n"
     ]
    },
    {
     "data": {
      "image/png": "[encoded data removed]",
      "text/plain": [
       "<Figure size 432x288 with 1 Axes>"
      ]
     },
     "metadata": {
      "needs_background": "light"
     },
     "output_type": "display_data"
    }
   ],
   "source": [
    "get_degree(four_deg)"
   ]
  },
  {
   "cell_type": "code",
   "execution_count": 95,
   "metadata": {},
   "outputs": [
    {
     "name": "stdout",
     "output_type": "stream",
     "text": [
      "Total number triangles:  0.0\n",
      "Global:  0.0\n",
      "Clustering coefficient, first 10:  [0.0, 0.0, 0.0, 0.0, 0.0, 0.0, 0.0, 0.0, 0.0, 0.0]\n",
      "Max clustering coefficient:  0.0\n",
      "Min clustering coefficient:  0.0\n"
     ]
    },
    {
     "data": {
      "image/png": "[encoded data removed]",
      "text/plain": [
       "<Figure size 432x288 with 1 Axes>"
      ]
     },
     "metadata": {
      "needs_background": "light"
     },
     "output_type": "display_data"
    }
   ],
   "source": [
    "clustering_coeff(a_five)"
   ]
  },
  {
   "cell_type": "code",
   "execution_count": 96,
   "metadata": {},
   "outputs": [
    {
     "name": "stdout",
     "output_type": "stream",
     "text": [
      "Five\n",
      "Distribution vector:  [  0   1   2 ... 663 456 862]\n",
      "Predecessors:  [  1   0   0 ... 530 574   2]\n",
      "Histograms for shortest path distributions and predecessors\n",
      "\n"
     ]
    },
    {
     "data": {
      "image/png": "[encoded data removed]",
      "text/plain": [
       "<Figure size 432x288 with 1 Axes>"
      ]
     },
     "metadata": {
      "needs_background": "light"
     },
     "output_type": "display_data"
    },
    {
     "name": "stdout",
     "output_type": "stream",
     "text": [
      "-----------------\n"
     ]
    }
   ],
   "source": [
    "names3 = ['Five']\n",
    "mats3 = [a_five]\n",
    "\n",
    "for i in range(len(names3)):\n",
    "    graph = mats3[i]\n",
    "    graph = csr_matrix(graph)\n",
    "    dist_matrix = breadth_first_order(csgraph=graph, i_start=0)[0]\n",
    "    predecessors = breadth_first_order(csgraph=graph, i_start=0)[1]\n",
    "    predecessors[0] = breadth_first_order(csgraph=graph, i_start=1)[1][0]\n",
    "    for j in range(len(predecessors)):\n",
    "        if predecessors[j] == -9999:\n",
    "            predecessors[j] = breadth_first_order(csgraph=graph, i_start=j+1)[1][j]\n",
    "    \n",
    "    print(names3[i])\n",
    "    print(\"Distribution vector: \", dist_matrix)\n",
    "    print(\"Predecessors: \", predecessors)\n",
    "    print(\"Histograms for shortest path distributions and predecessors\\n\")\n",
    "    plt.hist([dist_matrix, predecessors], bins = 'auto', label=['dist', 'pred'])\n",
    "    plt.legend(loc='upper right')\n",
    "    plt.show()\n",
    "    print(\"-----------------\")"
   ]
  },
  {
   "cell_type": "markdown",
   "metadata": {},
   "source": [
    "The skewing of degrees exaggerated even more with more nodes"
   ]
  },
  {
   "cell_type": "code",
   "execution_count": 97,
   "metadata": {},
   "outputs": [
    {
     "name": "stdout",
     "output_type": "stream",
     "text": [
      "First 100 eigenvalues: \n",
      " [124.22887067 115.16068029  94.41170626  91.01481836  82.24168858\n",
      "  77.15783924  75.47827567  72.75067796  69.36502789  67.91629187\n",
      "  66.66481085  60.11651922  57.4090516   54.20049168  52.00809445\n",
      "  49.42649727  48.98161201  48.90872014  45.9311437   43.78282396\n",
      "  42.75579451  41.48405842  41.38665976  40.85246906  40.19212343\n",
      "  39.98905024  39.72095697  37.21046704  36.83649917  35.50492699\n",
      "  35.33282906  35.23439422  34.41468564  34.18764281  32.61496679\n",
      "  32.35553226  32.19663452  31.73870394  31.17010135  30.96693402\n",
      "  30.8393308   30.35424825  30.26647945  29.08846335  28.44123645\n",
      "  28.14759022  28.26039002  26.62436503  26.54700912  26.10383611\n",
      "  25.62498629  25.01416254  24.94401722  24.61159249  24.23582853\n",
      "  24.15371713  23.97491169  23.57671387  23.22913071  23.08117118\n",
      "  23.02461132  22.98327628  22.85164819  22.71486874  22.48093979\n",
      "  22.43392112  22.10078718  22.08047149  21.74008494  21.58018326\n",
      "  21.38779709  21.3415254   21.29068757  21.16607359  21.07046099\n",
      "  20.99241076  20.84050532  20.81321449  20.58045199  20.48486304\n",
      "  20.43684547  20.40299455  20.31369432  20.20398685  20.1260494\n",
      "  20.09698878  19.90441796  19.83403782  19.81752823  19.46409177\n",
      "  19.34928685  19.18409641  19.13620225  19.04332625  18.90017103\n",
      "  18.80601259  18.52143205  18.35409761  18.19825412  18.11175009]\n",
      "Spectral Gap, smallest non-zero eigenvalue for the first 100:  18.111750087381605\n"
     ]
    }
   ],
   "source": [
    "eigenvalues(a_five)"
   ]
  },
  {
   "cell_type": "code",
   "execution_count": 98,
   "metadata": {},
   "outputs": [
    {
     "name": "stdout",
     "output_type": "stream",
     "text": [
      "Pearson Correlation Coefficient:  1.0\n"
     ]
    },
    {
     "data": {
      "image/png": "[encoded data removed]",
      "text/plain": [
       "<Figure size 432x288 with 1 Axes>"
      ]
     },
     "metadata": {
      "needs_background": "light"
     },
     "output_type": "display_data"
    }
   ],
   "source": [
    "scatter(a_five)"
   ]
  },
  {
   "cell_type": "code",
   "execution_count": 99,
   "metadata": {},
   "outputs": [
    {
     "data": {
      "image/png": "[encoded data removed]",
      "text/plain": [
       "<Figure size 432x288 with 1 Axes>"
      ]
     },
     "metadata": {
      "needs_background": "light"
     },
     "output_type": "display_data"
    }
   ],
   "source": [
    "d_c(a_five)"
   ]
  },
  {
   "cell_type": "markdown",
   "metadata": {},
   "source": [
    "Overall, there are minor changes but we can see that as the algorithm runs, most of the patterns stay the same."
   ]
  }
 ],
 "metadata": {
  "kernelspec": {
   "display_name": "Python 3",
   "language": "python",
   "name": "python3"
  },
  "language_info": {
   "codemirror_mode": {
    "name": "ipython",
    "version": 3
   },
   "file_extension": ".py",
   "mimetype": "text/x-python",
   "name": "python",
   "nbconvert_exporter": "python",
   "pygments_lexer": "ipython3",
   "version": "3.7.4"
  }
 },
 "nbformat": 4,
 "nbformat_minor": 2
}
