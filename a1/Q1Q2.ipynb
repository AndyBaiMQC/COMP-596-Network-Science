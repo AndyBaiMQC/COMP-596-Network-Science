{
 "cells": [
  {
   "cell_type": "markdown",
   "metadata": {},
   "source": [
    "# Name: Yifan Bai\n",
    "# Email: yifan.bai@mail.mcgill.ca\n",
    "# Group: 2\n",
    "# McGill ID: 260562421"
   ]
  },
  {
   "cell_type": "markdown",
   "metadata": {},
   "source": [
    "## Reading from data files: email, powergrid, protein"
   ]
  },
  {
   "cell_type": "code",
   "execution_count": 1,
   "metadata": {},
   "outputs": [],
   "source": [
    "import numpy as np;\n",
    "\n",
    "meta = np.loadtxt('../networks/metabolic.edgelist.txt').astype(np.int64)\n",
    "power = np.loadtxt('../networks/powergrid.edgelist.txt').astype(np.int64)\n",
    "protein = np.loadtxt('../networks/protein.edgelist.txt').astype(np.int64)"
   ]
  },
  {
   "cell_type": "markdown",
   "metadata": {},
   "source": [
    "## Get adjacency matrices. No self-loop, multi-edge; undirected graphs used"
   ]
  },
  {
   "cell_type": "markdown",
   "metadata": {},
   "source": [
    "DISCLAIMER: I followed the instructions word-by-word, and for some questions I went with my own interpretations while keeping original route for comparison purposes"
   ]
  },
  {
   "cell_type": "code",
   "execution_count": 2,
   "metadata": {},
   "outputs": [],
   "source": [
    "def build_matrix(x):\n",
    "    a = np.zeros((np.amax(x)+1, np.amax(x)+1))\n",
    "    for i in range(len(x)):\n",
    "        a[x[i][0]][x[i][1]] = 1\n",
    "    # undirected\n",
    "    for i in range(len(a)):\n",
    "        for j in range(len(a)):\n",
    "            if i == j:\n",
    "                a[i][i] = 0\n",
    "            elif a[i][j] != a[j][i]:\n",
    "                a[i][j] = 1\n",
    "                a[j][i] = 1\n",
    "    return a"
   ]
  },
  {
   "cell_type": "code",
   "execution_count": 3,
   "metadata": {},
   "outputs": [],
   "source": [
    "a_meta = build_matrix(meta)\n",
    "a_power = build_matrix(power)\n",
    "a_protein = build_matrix(protein)"
   ]
  },
  {
   "cell_type": "code",
   "execution_count": 4,
   "metadata": {},
   "outputs": [],
   "source": [
    "def build_matrix_no_simp(x):\n",
    "    a = np.zeros((np.amax(x)+1, np.amax(x)+1))\n",
    "    for i in range(len(x)):\n",
    "        a[x[i][0]][x[i][1]] = 1\n",
    "    return a\n"
   ]
  },
  {
   "cell_type": "code",
   "execution_count": 5,
   "metadata": {},
   "outputs": [],
   "source": [
    "a_meta_original = build_matrix_no_simp(meta)\n",
    "a_power_original = build_matrix_no_simp(power)\n",
    "a_protein_original = build_matrix_no_simp(protein)"
   ]
  },
  {
   "cell_type": "markdown",
   "metadata": {},
   "source": [
    "# Question 1"
   ]
  },
  {
   "cell_type": "markdown",
   "metadata": {},
   "source": [
    "## a) degree distribution"
   ]
  },
  {
   "cell_type": "code",
   "execution_count": 6,
   "metadata": {},
   "outputs": [],
   "source": [
    "import matplotlib.pyplot as plt"
   ]
  },
  {
   "cell_type": "code",
   "execution_count": 7,
   "metadata": {},
   "outputs": [],
   "source": [
    "def get_degree(a, m, begin, end):\n",
    "    my_list = np.sort(np.sum(a, axis = 1)).tolist()\n",
    "    freq = {}\n",
    "    k = []\n",
    "    v = []\n",
    "    for items in my_list: \n",
    "        freq[items] = my_list.count(items) \n",
    "    for key, value in freq.items(): \n",
    "        k.append(key)\n",
    "        v.append(value)\n",
    "    v[:] = [x / sum(v) for x in v]\n",
    "    x = np.log(k)\n",
    "    y = np.log(v)\n",
    "    fit = np.polyfit(x[begin:end], y[begin:end], m)\n",
    "    print(\"Coefficients 'a' and 'b' for the linear equation y = ax + b: \", fit)\n",
    "    print(\"Degree distribution\")\n",
    "    x2 = x[begin:end]\n",
    "    y2 = fit[0] * x2 + fit[1]\n",
    "    plt.plot(x, y)\n",
    "    plt.plot(x2, y2)\n",
    "    plt.show()"
   ]
  },
  {
   "cell_type": "markdown",
   "metadata": {},
   "source": [
    "### Simplified graph"
   ]
  },
  {
   "cell_type": "code",
   "execution_count": 8,
   "metadata": {},
   "outputs": [
    {
     "name": "stdout",
     "output_type": "stream",
     "text": [
      "Coefficients 'a' and 'b' for the linear equation y = ax + b:  [-2.83183691  2.88065408]\n",
      "Degree distribution\n"
     ]
    },
    {
     "data": {
      "image/png": "[encoded data removed]",
      "text/plain": [
       "<Figure size 432x288 with 1 Axes>"
      ]
     },
     "metadata": {
      "needs_background": "light"
     },
     "output_type": "display_data"
    }
   ],
   "source": [
    "get_degree(a_meta, 1, 4, 31)"
   ]
  },
  {
   "cell_type": "code",
   "execution_count": 9,
   "metadata": {},
   "outputs": [
    {
     "name": "stdout",
     "output_type": "stream",
     "text": [
      "Coefficients 'a' and 'b' for the linear equation y = ax + b:  [-2.54545078  0.54654605]\n",
      "Degree distribution\n"
     ]
    },
    {
     "name": "stderr",
     "output_type": "stream",
     "text": [
      "/home/andybai/anaconda3/lib/python3.7/site-packages/ipykernel_launcher.py:12: RuntimeWarning: divide by zero encountered in log\n",
      "  if sys.path[0] == '':\n"
     ]
    },
    {
     "data": {
      "image/png": "[encoded data removed]",
      "text/plain": [
       "<Figure size 432x288 with 1 Axes>"
      ]
     },
     "metadata": {
      "needs_background": "light"
     },
     "output_type": "display_data"
    }
   ],
   "source": [
    "get_degree(a_protein,1, 2, 25)"
   ]
  },
  {
   "cell_type": "code",
   "execution_count": 10,
   "metadata": {},
   "outputs": [
    {
     "name": "stdout",
     "output_type": "stream",
     "text": [
      "Coefficients 'a' and 'b' for the linear equation y = ax + b:  [-3.9535314   3.27040433]\n",
      "Degree distribution\n"
     ]
    },
    {
     "data": {
      "image/png": "[encoded data removed]",
      "text/plain": [
       "<Figure size 432x288 with 1 Axes>"
      ]
     },
     "metadata": {
      "needs_background": "light"
     },
     "output_type": "display_data"
    }
   ],
   "source": [
    "get_degree(a_power, 1,2,16)"
   ]
  },
  {
   "cell_type": "markdown",
   "metadata": {},
   "source": [
    "### Original graph"
   ]
  },
  {
   "cell_type": "code",
   "execution_count": 11,
   "metadata": {},
   "outputs": [
    {
     "name": "stdout",
     "output_type": "stream",
     "text": [
      "Coefficients 'a' and 'b' for the linear equation y = ax + b:  [-4.60809169  3.49206023]\n",
      "Degree distribution\n"
     ]
    },
    {
     "name": "stderr",
     "output_type": "stream",
     "text": [
      "/home/andybai/anaconda3/lib/python3.7/site-packages/ipykernel_launcher.py:12: RuntimeWarning: divide by zero encountered in log\n",
      "  if sys.path[0] == '':\n"
     ]
    },
    {
     "data": {
      "image/png": "[encoded data removed]",
      "text/plain": [
       "<Figure size 432x288 with 1 Axes>"
      ]
     },
     "metadata": {
      "needs_background": "light"
     },
     "output_type": "display_data"
    }
   ],
   "source": [
    "get_degree(a_power_original, 1, 4, 15)"
   ]
  },
  {
   "cell_type": "code",
   "execution_count": 12,
   "metadata": {},
   "outputs": [
    {
     "name": "stdout",
     "output_type": "stream",
     "text": [
      "Coefficients 'a' and 'b' for the linear equation y = ax + b:  [-2.72861611  0.1674617 ]\n",
      "Degree distribution\n"
     ]
    },
    {
     "name": "stderr",
     "output_type": "stream",
     "text": [
      "/home/andybai/anaconda3/lib/python3.7/site-packages/ipykernel_launcher.py:12: RuntimeWarning: divide by zero encountered in log\n",
      "  if sys.path[0] == '':\n"
     ]
    },
    {
     "data": {
      "image/png": "[encoded data removed]",
      "text/plain": [
       "<Figure size 432x288 with 1 Axes>"
      ]
     },
     "metadata": {
      "needs_background": "light"
     },
     "output_type": "display_data"
    }
   ],
   "source": [
    "get_degree(a_protein_original, 1, 2, 17)"
   ]
  },
  {
   "cell_type": "code",
   "execution_count": 13,
   "metadata": {},
   "outputs": [
    {
     "name": "stderr",
     "output_type": "stream",
     "text": [
      "/home/andybai/anaconda3/lib/python3.7/site-packages/ipykernel_launcher.py:12: RuntimeWarning: divide by zero encountered in log\n",
      "  if sys.path[0] == '':\n"
     ]
    },
    {
     "name": "stdout",
     "output_type": "stream",
     "text": [
      "Coefficients 'a' and 'b' for the linear equation y = ax + b:  [-2.98436132  2.34978742]\n",
      "Degree distribution\n"
     ]
    },
    {
     "data": {
      "image/png": "[encoded data removed]",
      "text/plain": [
       "<Figure size 432x288 with 1 Axes>"
      ]
     },
     "metadata": {
      "needs_background": "light"
     },
     "output_type": "display_data"
    }
   ],
   "source": [
    "get_degree(a_meta_original, 1, 3, 23)"
   ]
  },
  {
   "cell_type": "markdown",
   "metadata": {},
   "source": [
    "## b) custering coefficient distribution"
   ]
  },
  {
   "cell_type": "code",
   "execution_count": 14,
   "metadata": {},
   "outputs": [],
   "source": [
    "def clustering_coeff(a):\n",
    "    c_local = []\n",
    "    a2 = a * a\n",
    "    a3 = a2 * a\n",
    "    a3_diag = np.diag(a3)\n",
    "    trace = np.trace(a3)\n",
    "    denom = np.sum(a2) - np.trace(a2)\n",
    "    print(\"Total number triangles: \", trace/6)\n",
    "    print(\"Global: \", trace/denom)\n",
    "    degree = np.multiply(np.sum(a, axis = 0), np.sum(a, axis = 0) - 1)\n",
    "    degree2 = np.multiply(np.sum(a, axis = 1), np.sum(a, axis = 1) - 1)\n",
    "    for i in range(len(degree)):\n",
    "        if degree[i] == 0:\n",
    "            c_local.append(0)\n",
    "        else:\n",
    "            c_local.append(a3_diag[i]/degree[i])\n",
    "    print(\"Clustering coefficient, first 10: \", c_local[0:10])\n",
    "    print(\"Max clustering coefficient: \", max(c_local))\n",
    "    print(\"Min clustering coefficient: \", min(c_local))\n",
    "    plt.hist(a, bins='auto')\n",
    "    plt.show()"
   ]
  },
  {
   "cell_type": "markdown",
   "metadata": {},
   "source": [
    "We can see that since the matrices are so sparse, the diagonal of A^3 is a vector of zeros. This leans the clustering coefficients are zeros."
   ]
  },
  {
   "cell_type": "markdown",
   "metadata": {},
   "source": [
    "### Simplified graphs"
   ]
  },
  {
   "cell_type": "code",
   "execution_count": 15,
   "metadata": {
    "scrolled": false
   },
   "outputs": [
    {
     "name": "stdout",
     "output_type": "stream",
     "text": [
      "Total number triangles:  0.0\n",
      "Global:  0.0\n",
      "Clustering coefficient, first 10:  [0.0, 0.0, 0.0, 0.0, 0.0, 0.0, 0.0, 0.0, 0.0, 0.0]\n",
      "Max clustering coefficient:  0.0\n",
      "Min clustering coefficient:  0.0\n"
     ]
    },
    {
     "data": {
      "image/png": "[encoded data removed]",
      "text/plain": [
       "<Figure size 432x288 with 1 Axes>"
      ]
     },
     "metadata": {
      "needs_background": "light"
     },
     "output_type": "display_data"
    }
   ],
   "source": [
    "clustering_coeff(a_meta)"
   ]
  },
  {
   "cell_type": "code",
   "execution_count": 16,
   "metadata": {
    "scrolled": true
   },
   "outputs": [
    {
     "name": "stdout",
     "output_type": "stream",
     "text": [
      "Total number triangles:  0.0\n",
      "Global:  0.0\n",
      "Clustering coefficient, first 10:  [0.0, 0.0, 0.0, 0.0, 0.0, 0.0, 0.0, 0.0, 0.0, 0.0]\n",
      "Max clustering coefficient:  0.0\n",
      "Min clustering coefficient:  0.0\n"
     ]
    },
    {
     "data": {
      "image/png": "[encoded data removed]",
      "text/plain": [
       "<Figure size 432x288 with 1 Axes>"
      ]
     },
     "metadata": {
      "needs_background": "light"
     },
     "output_type": "display_data"
    }
   ],
   "source": [
    "clustering_coeff(a_meta_original)"
   ]
  },
  {
   "cell_type": "code",
   "execution_count": 17,
   "metadata": {
    "scrolled": true
   },
   "outputs": [
    {
     "name": "stdout",
     "output_type": "stream",
     "text": [
      "Total number triangles:  0.0\n",
      "Global:  0.0\n",
      "Clustering coefficient, first 10:  [0.0, 0.0, 0, 0, 0, 0.0, 0, 0, 0.0, 0.0]\n",
      "Max clustering coefficient:  0.0\n",
      "Min clustering coefficient:  0.0\n"
     ]
    },
    {
     "data": {
      "image/png": "[encoded data removed]",
      "text/plain": [
       "<Figure size 432x288 with 1 Axes>"
      ]
     },
     "metadata": {
      "needs_background": "light"
     },
     "output_type": "display_data"
    }
   ],
   "source": [
    "clustering_coeff(a_power)"
   ]
  },
  {
   "cell_type": "markdown",
   "metadata": {},
   "source": [
    "### Original graphs"
   ]
  },
  {
   "cell_type": "code",
   "execution_count": 18,
   "metadata": {},
   "outputs": [
    {
     "name": "stdout",
     "output_type": "stream",
     "text": [
      "Total number triangles:  0.0\n",
      "Global:  0.0\n",
      "Clustering coefficient, first 10:  [0, 0, 0, 0, 0, 0, 0, 0, 0.0, 0]\n",
      "Max clustering coefficient:  0\n",
      "Min clustering coefficient:  0\n"
     ]
    },
    {
     "data": {
      "image/png": "[encoded data removed]",
      "text/plain": [
       "<Figure size 432x288 with 1 Axes>"
      ]
     },
     "metadata": {
      "needs_background": "light"
     },
     "output_type": "display_data"
    }
   ],
   "source": [
    "clustering_coeff(a_power_original)"
   ]
  },
  {
   "cell_type": "code",
   "execution_count": 19,
   "metadata": {
    "scrolled": true
   },
   "outputs": [
    {
     "name": "stdout",
     "output_type": "stream",
     "text": [
      "Total number triangles:  0.0\n",
      "Global:  0.0\n",
      "Clustering coefficient, first 10:  [0, 0, 0, 0, 0, 0, 0, 0, 0.0, 0]\n",
      "Max clustering coefficient:  0\n",
      "Min clustering coefficient:  0\n"
     ]
    },
    {
     "data": {
      "image/png": "[encoded data removed]",
      "text/plain": [
       "<Figure size 432x288 with 1 Axes>"
      ]
     },
     "metadata": {
      "needs_background": "light"
     },
     "output_type": "display_data"
    }
   ],
   "source": [
    "clustering_coeff(a_protein)"
   ]
  },
  {
   "cell_type": "code",
   "execution_count": 20,
   "metadata": {},
   "outputs": [
    {
     "name": "stdout",
     "output_type": "stream",
     "text": [
      "Total number triangles:  37.5\n",
      "Global:  0.08317929759704251\n",
      "Clustering coefficient, first 10:  [0, 0, 0, 0, 0, 0, 0, 0, 0, 0]\n",
      "Max clustering coefficient:  0.5\n",
      "Min clustering coefficient:  0\n"
     ]
    },
    {
     "data": {
      "image/png": "[encoded data removed]",
      "text/plain": [
       "<Figure size 432x288 with 1 Axes>"
      ]
     },
     "metadata": {
      "needs_background": "light"
     },
     "output_type": "display_data"
    }
   ],
   "source": [
    "clustering_coeff(a_protein_original)"
   ]
  },
  {
   "cell_type": "markdown",
   "metadata": {},
   "source": [
    "## For c) and d) I only did for the simplified graphs"
   ]
  },
  {
   "cell_type": "markdown",
   "metadata": {},
   "source": [
    "## c) shortest paths distribution"
   ]
  },
  {
   "cell_type": "code",
   "execution_count": 21,
   "metadata": {},
   "outputs": [],
   "source": [
    "from scipy.sparse import csr_matrix\n",
    "from scipy.sparse.csgraph import shortest_path\n",
    "from scipy.sparse.csgraph import breadth_first_order\n",
    "from scipy.sparse.csgraph import depth_first_order"
   ]
  },
  {
   "cell_type": "code",
   "execution_count": 22,
   "metadata": {},
   "outputs": [],
   "source": [
    "names = ['metabolism', 'powergrid', 'protein']\n",
    "simplified = [a_meta, a_power, a_protein]\n",
    "original = [a_meta_original, a_power_original, a_protein_original]"
   ]
  },
  {
   "cell_type": "code",
   "execution_count": 23,
   "metadata": {},
   "outputs": [
    {
     "name": "stdout",
     "output_type": "stream",
     "text": [
      "metabolism\n",
      "Distribution vector:  [  0 496 499 ... 238 443 447]\n",
      "Predecessors:  [589 589 589 ... 589 589 589]\n",
      "Histograms for shortest path distributions and predecessors\n",
      "\n"
     ]
    },
    {
     "data": {
      "image/png": "[encoded data removed]",
      "text/plain": [
       "<Figure size 432x288 with 1 Axes>"
      ]
     },
     "metadata": {
      "needs_background": "light"
     },
     "output_type": "display_data"
    },
    {
     "name": "stdout",
     "output_type": "stream",
     "text": [
      "-----------------\n",
      "powergrid\n",
      "Distribution vector:  [   0  386  395 ... 4397 4350 4379]\n",
      "Predecessors:  [ 395 3586 3583 ... 4929 4933  819]\n",
      "Histograms for shortest path distributions and predecessors\n",
      "\n"
     ]
    },
    {
     "data": {
      "image/png": "[encoded data removed]",
      "text/plain": [
       "<Figure size 432x288 with 1 Axes>"
      ]
     },
     "metadata": {
      "needs_background": "light"
     },
     "output_type": "display_data"
    },
    {
     "name": "stdout",
     "output_type": "stream",
     "text": [
      "-----------------\n",
      "protein\n",
      "Distribution vector:  [   0 1050  362 ...  470 1003  116]\n",
      "Predecessors:  [1050  229  229 ...  806 1982 1637]\n",
      "Histograms for shortest path distributions and predecessors\n",
      "\n"
     ]
    },
    {
     "data": {
      "image/png": "[encoded data removed]",
      "text/plain": [
       "<Figure size 432x288 with 1 Axes>"
      ]
     },
     "metadata": {
      "needs_background": "light"
     },
     "output_type": "display_data"
    },
    {
     "name": "stdout",
     "output_type": "stream",
     "text": [
      "-----------------\n"
     ]
    }
   ],
   "source": [
    "for i in range(len(names)):\n",
    "    graph = simplified[i]\n",
    "    graph = csr_matrix(graph)\n",
    "    dist_matrix = breadth_first_order(csgraph=graph, i_start=0)[0]\n",
    "    predecessors = breadth_first_order(csgraph=graph, i_start=0)[1]\n",
    "    predecessors[0] = breadth_first_order(csgraph=graph, i_start=1)[1][0]\n",
    "    for j in range(len(predecessors)):\n",
    "        if predecessors[j] == -9999:\n",
    "            predecessors[j] = breadth_first_order(csgraph=graph, i_start=j+1)[1][j]\n",
    "    \n",
    "    print(names[i])\n",
    "    print(\"Distribution vector: \", dist_matrix)\n",
    "    print(\"Predecessors: \", predecessors)\n",
    "    print(\"Histograms for shortest path distributions and predecessors\\n\")\n",
    "    plt.hist([dist_matrix, predecessors], bins = 'auto', label=['dist', 'pred'])\n",
    "    plt.legend(loc='upper right')\n",
    "    plt.show()\n",
    "    print(\"-----------------\")\n",
    "# dist_matrix, predecessors = shortest_path(csgraph=graph, directed=False, indices=0, return_predecessors=True)"
   ]
  },
  {
   "cell_type": "markdown",
   "metadata": {},
   "source": [
    "## d) number of connected components"
   ]
  },
  {
   "cell_type": "code",
   "execution_count": 24,
   "metadata": {},
   "outputs": [],
   "source": [
    "from scipy.sparse.csgraph import connected_components"
   ]
  },
  {
   "cell_type": "code",
   "execution_count": 25,
   "metadata": {},
   "outputs": [
    {
     "name": "stdout",
     "output_type": "stream",
     "text": [
      "metabolism\n",
      "Number of connected components:  1\n",
      "Labels:  [0 0 0 ... 0 0 0]\n",
      "Fraction:  0.0009624639076034649\n",
      "-----------------\n",
      "powergrid\n",
      "Number of connected components:  1\n",
      "Labels:  [0 0 0 ... 0 0 0]\n",
      "Fraction:  0.00020238818053025704\n",
      "-----------------\n",
      "protein\n",
      "Number of connected components:  185\n",
      "Labels:  [0 0 0 ... 0 0 0]\n",
      "Fraction:  0.09167492566897918\n",
      "-----------------\n"
     ]
    }
   ],
   "source": [
    "for i in range(len(names)):\n",
    "    graph = original[i]\n",
    "    graph = csr_matrix(graph)\n",
    "    dist_matrix = connected_components(csgraph=graph, directed=False, return_labels=True)[0]\n",
    "    predecessors = connected_components(csgraph=graph, directed=False, return_labels=True)[1]\n",
    "    print(names[i])\n",
    "    print('Number of connected components: ', dist_matrix)\n",
    "    print('Labels: ', predecessors)\n",
    "    print('Fraction: ',len(np.unique(predecessors))/len(original[i]))\n",
    "    print(\"-----------------\")"
   ]
  },
  {
   "cell_type": "markdown",
   "metadata": {},
   "source": [
    "## e) eigenvalue distribution"
   ]
  },
  {
   "cell_type": "markdown",
   "metadata": {},
   "source": [
    "Since we are working with undirected graphs, degree matrix is a diagonal matrix and we can take 'short cuts' to get the Laplacian matrix (L = D - A):"
   ]
  },
  {
   "cell_type": "markdown",
   "metadata": {},
   "source": [
    "1) Take negative of A[i][j] where i !== j. 2) Direct subtract element wise on the diagonal"
   ]
  },
  {
   "cell_type": "code",
   "execution_count": 26,
   "metadata": {},
   "outputs": [],
   "source": [
    "from scipy.sparse.linalg import eigs"
   ]
  },
  {
   "cell_type": "code",
   "execution_count": 27,
   "metadata": {},
   "outputs": [],
   "source": [
    "def eigenvalues(a):\n",
    "    l = np.zeros(np.shape(a))\n",
    "    d_i = np.sum(a, axis = 0)\n",
    "    for i in range(len(a)):\n",
    "        for j in range(len(a)):\n",
    "            if i == j:\n",
    "                l[i][j] = d_i[i] - a[i][j]\n",
    "            else:\n",
    "                l[i][j] = -a[i][j]\n",
    "    vals, vecs = eigs(l, k = 100)\n",
    "    print(\"First 100 eigenvalues: \\n\", vals.real)\n",
    "    print(\"Spectral Gap, smallest non-zero eigenvalue for the first 100: \", np.amin(vals.real))"
   ]
  },
  {
   "cell_type": "code",
   "execution_count": 28,
   "metadata": {},
   "outputs": [
    {
     "name": "stdout",
     "output_type": "stream",
     "text": [
      "First 100 eigenvalues: \n",
      " [639.00369299 461.00769966 300.01858498 253.03355538 244.01125795\n",
      " 140.024371   113.19322153 105.95092568  99.97549584  85.83296667\n",
      "  83.00698054  84.35134135  67.88033483  61.01881756  54.4144073\n",
      "  52.3472176   47.95808529  40.31997677  38.7925341   35.82868185\n",
      "  31.06574579  30.1137395   29.37276965  29.06534315  28.70100681\n",
      "  28.23300288  27.37510699  27.15566935  26.49210695  25.4748767\n",
      "  24.97782724  24.67568235  24.51124427  24.42283077  24.05954869\n",
      "  23.92242291  23.81433488  23.27668833  22.53730101  22.35876669\n",
      "  22.02287877  21.89057527  21.54350782  21.41948332  21.06071878\n",
      "  20.85035686  20.48591237  20.37364865  20.05239133  19.71905362\n",
      "  19.608905    19.00706007  18.93839974  18.73162569  18.48919392\n",
      "  18.46049692  18.26619604  18.08695384  17.98476779  17.92699474\n",
      "  17.83812291  17.69688457  17.51475483  17.46135429  17.30464392\n",
      "  17.22318967  17.15326895  17.18294348  16.8673785   16.81628718\n",
      "  16.74250819  16.49427838  16.45235344  16.42623394  16.27832818\n",
      "  16.2299508   16.11084694  15.79375843  15.67896154  15.61101152\n",
      "  15.56413221  15.48135261  15.3387175   15.22892272  15.05822925\n",
      "  14.86714526  14.7748687   14.61991023  14.58092543  14.55238427\n",
      "  14.35936387  14.34952075  14.30414186  14.31058637  14.31449423\n",
      "  14.07539236  14.03005824  13.97556635  13.86454182  13.82734751]\n",
      "Spectral Gap, smallest non-zero eigenvalue for the first 100:  13.827347512074564\n"
     ]
    }
   ],
   "source": [
    "eigenvalues(a_meta)"
   ]
  },
  {
   "cell_type": "code",
   "execution_count": 29,
   "metadata": {},
   "outputs": [
    {
     "name": "stdout",
     "output_type": "stream",
     "text": [
      "First 100 eigenvalues: \n",
      " [20.10961638 19.12040004 15.53449922 15.09944316 15.06742763 14.36283872\n",
      " 14.44031338 14.43826971 14.12174676 14.09434772 13.99260146 13.36898903\n",
      " 13.24934523 13.21895354 13.10166182 13.10060907 12.67055292 12.62922198\n",
      " 12.47916386 12.40992733 12.38069949 12.36199878 12.33621813 12.17672119\n",
      " 12.19248363 12.19921282 12.07821727 11.76714754 11.69925684 11.60144844\n",
      " 11.53268182 11.43900231 11.42075779 11.41498983 11.35582107 11.31966786\n",
      " 11.2957789  11.29861273 11.20695083 11.18674019 11.17710596 11.17250185\n",
      " 11.16586853 11.14390006 11.13337106 11.09830284 11.06712566 11.04864904\n",
      " 10.92360037 10.8631632  10.72548644 10.62953864 10.60360614 10.55202785\n",
      " 10.5228627  10.45082532 10.42190636 10.40841961 10.40272777 10.38225706\n",
      " 10.35592678 10.33699412 10.33356385 10.31260832 10.27222366 10.23724402\n",
      " 10.22183286 10.22740566 10.18366836 10.16249509 10.1238946  10.08133988\n",
      " 10.03432053 10.02076735 10.01885597  9.96275101  9.9386608   9.87901416\n",
      "  9.84340905  9.82809191  9.80005708  9.64848183  9.64702091  9.61098323\n",
      "  9.59156298  9.57337319  9.57335967  9.50198503  9.47834303  9.46844359\n",
      "  9.3938688   9.36367353  9.34897219  9.35738015  9.33863969  9.30894845\n",
      "  9.29124456  9.24129441  9.22578292  9.21702997]\n",
      "Spectral Gap, smallest non-zero eigenvalue for the first 100:  9.217029967092815\n"
     ]
    }
   ],
   "source": [
    "eigenvalues(a_power)"
   ]
  },
  {
   "cell_type": "code",
   "execution_count": 30,
   "metadata": {},
   "outputs": [
    {
     "name": "stdout",
     "output_type": "stream",
     "text": [
      "First 100 eigenvalues: \n",
      " [90.17842632 82.0563165  80.93315955 51.06632128 45.00888074 43.24491536\n",
      " 38.19367812 31.14190255 30.10368216 30.11833778 29.63420717 27.99609746\n",
      " 27.73614027 27.05324546 24.97313848 24.81667957 24.28050261 22.22313349\n",
      " 21.39642026 21.02771712 21.01576766 20.27860418 19.79652388 19.46455393\n",
      " 19.04617627 18.64419499 18.14425632 17.27041702 17.11152025 16.6183426\n",
      " 15.39546503 15.403596   15.19677793 15.16923845 15.07889447 14.49197983\n",
      " 14.08251916 13.96831376 13.69029899 13.52937671 13.4864022  13.44390849\n",
      " 13.34491274 13.33742644 13.16347371 13.10420386 12.99193218 12.92063607\n",
      " 12.70616086 12.58772502 12.50077552 12.31368265 12.02925772 11.85780264\n",
      " 11.57302397 11.4255173  11.35220868 11.31698276 11.29967868 11.26114023\n",
      " 11.08161508 11.0742745  11.04384324 10.91230838 10.880104   10.86185407\n",
      " 10.76025888 10.65170897 10.57400815 10.41047904 10.34391436 10.13549587\n",
      " 10.08501948 10.05817254 10.02190807  9.96648631  9.87541734  9.82967164\n",
      "  9.72664359  9.67526016  9.52688111  9.51528889  9.4921126   9.40560267\n",
      "  9.38481847  9.3407356   9.28653602  9.24283566  9.19056186  9.08151602\n",
      "  9.06431483  8.98815457  8.85298914  8.85850807  8.78647354  8.72078121\n",
      "  8.7106943   8.64308939  8.57481549  8.55710394]\n",
      "Spectral Gap, smallest non-zero eigenvalue for the first 100:  8.557103935335212\n"
     ]
    }
   ],
   "source": [
    "eigenvalues(a_protein)"
   ]
  },
  {
   "cell_type": "markdown",
   "metadata": {},
   "source": [
    "## f) degree correlations"
   ]
  },
  {
   "cell_type": "code",
   "execution_count": 31,
   "metadata": {},
   "outputs": [],
   "source": [
    "from scipy.stats.stats import pearsonr "
   ]
  },
  {
   "cell_type": "markdown",
   "metadata": {},
   "source": [
    "If we keep the simplification stated above, the correlation would be 1. We can investigate how things look like without it."
   ]
  },
  {
   "cell_type": "code",
   "execution_count": 32,
   "metadata": {},
   "outputs": [],
   "source": [
    "def scatter(a):\n",
    "    d_i = np.sum(a, axis = 0)\n",
    "    d_j = np.sum(a, axis = 1)\n",
    "    plt.scatter(d_i, d_j)\n",
    "    print(\"Pearson Correlation Coefficient: \", pearsonr(d_i,d_j)[0])"
   ]
  },
  {
   "cell_type": "markdown",
   "metadata": {},
   "source": [
    "### Simplified graphs"
   ]
  },
  {
   "cell_type": "code",
   "execution_count": 33,
   "metadata": {},
   "outputs": [
    {
     "name": "stdout",
     "output_type": "stream",
     "text": [
      "Pearson Correlation Coefficient:  1.0\n"
     ]
    },
    {
     "data": {
      "image/png": "[encoded data removed]",
      "text/plain": [
       "<Figure size 432x288 with 1 Axes>"
      ]
     },
     "metadata": {
      "needs_background": "light"
     },
     "output_type": "display_data"
    }
   ],
   "source": [
    "scatter(a_meta)"
   ]
  },
  {
   "cell_type": "code",
   "execution_count": 34,
   "metadata": {},
   "outputs": [
    {
     "name": "stdout",
     "output_type": "stream",
     "text": [
      "Pearson Correlation Coefficient:  1.0\n"
     ]
    },
    {
     "data": {
      "image/png": "[encoded data removed]",
      "text/plain": [
       "<Figure size 432x288 with 1 Axes>"
      ]
     },
     "metadata": {
      "needs_background": "light"
     },
     "output_type": "display_data"
    }
   ],
   "source": [
    "scatter(a_power)"
   ]
  },
  {
   "cell_type": "code",
   "execution_count": 35,
   "metadata": {},
   "outputs": [
    {
     "name": "stdout",
     "output_type": "stream",
     "text": [
      "Pearson Correlation Coefficient:  0.9999999999999999\n"
     ]
    },
    {
     "data": {
      "image/png": "[encoded data removed]",
      "text/plain": [
       "<Figure size 432x288 with 1 Axes>"
      ]
     },
     "metadata": {
      "needs_background": "light"
     },
     "output_type": "display_data"
    }
   ],
   "source": [
    "scatter(a_protein)"
   ]
  },
  {
   "cell_type": "markdown",
   "metadata": {},
   "source": [
    "But it would be interesting to see what things are for the original graphs"
   ]
  },
  {
   "cell_type": "markdown",
   "metadata": {},
   "source": [
    "### Original graphs"
   ]
  },
  {
   "cell_type": "code",
   "execution_count": 36,
   "metadata": {},
   "outputs": [
    {
     "name": "stdout",
     "output_type": "stream",
     "text": [
      "Pearson Correlation Coefficient:  0.6332477523312626\n"
     ]
    },
    {
     "data": {
      "image/png": "[encoded data removed]",
      "text/plain": [
       "<Figure size 432x288 with 1 Axes>"
      ]
     },
     "metadata": {
      "needs_background": "light"
     },
     "output_type": "display_data"
    }
   ],
   "source": [
    "scatter(a_meta_original)"
   ]
  },
  {
   "cell_type": "code",
   "execution_count": 37,
   "metadata": {},
   "outputs": [
    {
     "name": "stdout",
     "output_type": "stream",
     "text": [
      "Pearson Correlation Coefficient:  -0.1770073443062277\n"
     ]
    },
    {
     "data": {
      "image/png": "[encoded data removed]",
      "text/plain": [
       "<Figure size 432x288 with 1 Axes>"
      ]
     },
     "metadata": {
      "needs_background": "light"
     },
     "output_type": "display_data"
    }
   ],
   "source": [
    "scatter(a_power_original)"
   ]
  },
  {
   "cell_type": "code",
   "execution_count": 38,
   "metadata": {},
   "outputs": [
    {
     "name": "stdout",
     "output_type": "stream",
     "text": [
      "Pearson Correlation Coefficient:  0.4064423366631729\n"
     ]
    },
    {
     "data": {
      "image/png": "[encoded data removed]",
      "text/plain": [
       "<Figure size 432x288 with 1 Axes>"
      ]
     },
     "metadata": {
      "needs_background": "light"
     },
     "output_type": "display_data"
    }
   ],
   "source": [
    "scatter(a_protein_original)"
   ]
  },
  {
   "cell_type": "markdown",
   "metadata": {},
   "source": [
    "As we can see, they are clearly not correlated as before. The reason being that an undirected, self-loop free and single-edged graph is essentially a two-direction simple graph. This would make them to have benign behaviours."
   ]
  },
  {
   "cell_type": "markdown",
   "metadata": {},
   "source": [
    "## g) degree-clustering coefficient relation"
   ]
  },
  {
   "cell_type": "code",
   "execution_count": 39,
   "metadata": {},
   "outputs": [],
   "source": [
    "def d_c(a):\n",
    "    c_local = []\n",
    "    a2 = a * a\n",
    "    a3 = a2 * a\n",
    "    a3_diag = np.diag(a3)\n",
    "    degree = np.multiply(np.sum(a, axis = 0), np.sum(a, axis = 0) - 1)\n",
    "    degree2 = np.multiply(np.sum(a, axis = 1), np.sum(a, axis = 1) - 1)\n",
    "    for i in range(len(degree)):\n",
    "        if degree[i] == 0:\n",
    "            c_local.append(0)\n",
    "        else:\n",
    "            c_local.append(a3_diag[i]/degree[i])\n",
    "    d_i = np.sum(a, axis = 0)\n",
    "    plt.scatter(d_i,c_local)"
   ]
  },
  {
   "cell_type": "markdown",
   "metadata": {},
   "source": [
    "From previous questions, we know that since the clusering coefficients are essentially zero, there would not be any 'definable' correlation."
   ]
  },
  {
   "cell_type": "markdown",
   "metadata": {},
   "source": [
    "### Simplified graphs"
   ]
  },
  {
   "cell_type": "code",
   "execution_count": 40,
   "metadata": {},
   "outputs": [
    {
     "data": {
      "image/png": "[encoded data removed]",
      "text/plain": [
       "<Figure size 432x288 with 1 Axes>"
      ]
     },
     "metadata": {
      "needs_background": "light"
     },
     "output_type": "display_data"
    }
   ],
   "source": [
    "d_c(a_meta) # matabolism"
   ]
  },
  {
   "cell_type": "code",
   "execution_count": 41,
   "metadata": {},
   "outputs": [
    {
     "data": {
      "image/png": "[encoded data removed]",
      "text/plain": [
       "<Figure size 432x288 with 1 Axes>"
      ]
     },
     "metadata": {
      "needs_background": "light"
     },
     "output_type": "display_data"
    }
   ],
   "source": [
    "d_c(a_power)"
   ]
  },
  {
   "cell_type": "code",
   "execution_count": 42,
   "metadata": {},
   "outputs": [
    {
     "data": {
      "image/png": "[encoded data removed]",
      "text/plain": [
       "<Figure size 432x288 with 1 Axes>"
      ]
     },
     "metadata": {
      "needs_background": "light"
     },
     "output_type": "display_data"
    }
   ],
   "source": [
    "d_c(a_protein)"
   ]
  },
  {
   "cell_type": "markdown",
   "metadata": {},
   "source": [
    "### Original graphs"
   ]
  },
  {
   "cell_type": "code",
   "execution_count": 43,
   "metadata": {},
   "outputs": [
    {
     "data": {
      "image/png": "[encoded data removed]",
      "text/plain": [
       "<Figure size 432x288 with 1 Axes>"
      ]
     },
     "metadata": {
      "needs_background": "light"
     },
     "output_type": "display_data"
    }
   ],
   "source": [
    "d_c(a_meta_original)"
   ]
  },
  {
   "cell_type": "code",
   "execution_count": 44,
   "metadata": {},
   "outputs": [
    {
     "data": {
      "image/png": "[encoded data removed]",
      "text/plain": [
       "<Figure size 432x288 with 1 Axes>"
      ]
     },
     "metadata": {
      "needs_background": "light"
     },
     "output_type": "display_data"
    }
   ],
   "source": [
    "d_c(a_power_original)"
   ]
  },
  {
   "cell_type": "code",
   "execution_count": 45,
   "metadata": {},
   "outputs": [
    {
     "data": {
      "image/png": "[encoded data removed]",
      "text/plain": [
       "<Figure size 432x288 with 1 Axes>"
      ]
     },
     "metadata": {
      "needs_background": "light"
     },
     "output_type": "display_data"
    }
   ],
   "source": [
    "d_c(a_protein_original)"
   ]
  },
  {
   "cell_type": "markdown",
   "metadata": {},
   "source": [
    "# Question 2"
   ]
  },
  {
   "cell_type": "markdown",
   "metadata": {},
   "source": [
    "### Building Ajacency matrix with n x n shape: n^2 for filling in the entries, then for simplification, n^n access for modification. Therefore O(n^2)"
   ]
  },
  {
   "cell_type": "markdown",
   "metadata": {},
   "source": [
    "a) Get sum: n operations, initializations: 1 operation, traverse through all sums to build key-value pairs: n operations. Therefore O(n^2)"
   ]
  },
  {
   "cell_type": "markdown",
   "metadata": {},
   "source": [
    "b) Matrix multiplications: O(n^3), but could use some more advanced as here it is naive. All other operations are similar to the previous questions and are of O(n) or O(n^2). Taking the worst, O(n^3)"
   ]
  },
  {
   "cell_type": "markdown",
   "metadata": {},
   "source": [
    "c) Since it is BFS/DFS based approach, we visit each node and the complexity is O(n + m) where m is the number of edges in the graph. In an undirected graph, the worst case, m = n(n-1)/2"
   ]
  },
  {
   "cell_type": "markdown",
   "metadata": {},
   "source": [
    "d) Similar to c) the complexity is O(n + m) where m is the number of edges in the graph. In an undirected graph, the worst case, m = n(n-1)/2"
   ]
  },
  {
   "cell_type": "markdown",
   "metadata": {},
   "source": [
    "e) To get Laplacian, we need O(n^2) for n x n matrices. Then for eigenvalue the best implementation is O(n^2.376). Taking the worst, O(n^2.376)"
   ]
  },
  {
   "cell_type": "markdown",
   "metadata": {},
   "source": [
    "f) O(n) summations"
   ]
  },
  {
   "cell_type": "markdown",
   "metadata": {},
   "source": [
    "g) O(n) for summation to get degree, O(n^3) in the clustering coefficient calculations. Taking the worst, O(n^3)"
   ]
  }
 ],
 "metadata": {
  "kernelspec": {
   "display_name": "Python 3",
   "language": "python",
   "name": "python3"
  },
  "language_info": {
   "codemirror_mode": {
    "name": "ipython",
    "version": 3
   },
   "file_extension": ".py",
   "mimetype": "text/x-python",
   "name": "python",
   "nbconvert_exporter": "python",
   "pygments_lexer": "ipython3",
   "version": "3.7.4"
  }
 },
 "nbformat": 4,
 "nbformat_minor": 2
}
