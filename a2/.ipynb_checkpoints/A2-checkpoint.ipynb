{
 "cells": [
  {
   "cell_type": "markdown",
   "metadata": {},
   "source": [
    "# Assignment 2"
   ]
  },
  {
   "cell_type": "code",
   "execution_count": 47,
   "metadata": {},
   "outputs": [],
   "source": [
    "import pandas as pd\n",
    "import numpy as np\n",
    "import scipy.sparse as sps\n",
    "from scipy.sparse import dok_matrix\n",
    "import networkx as nx\n",
    "import matplotlib.pyplot as plt\n",
    "from collections import Counter\n",
    "from community import community_louvain\n",
    "import sklearn.metrics as metrics\n",
    "import pickle\n",
    "from tqdm.notebook import tqdm\n",
    "from tqdm.notebook import trange\n",
    "\n",
    "import random\n",
    "from numpy import random as nprand"
   ]
  },
  {
   "cell_type": "markdown",
   "metadata": {},
   "source": [
    "## Part 1"
   ]
  },
  {
   "cell_type": "code",
   "execution_count": 48,
   "metadata": {},
   "outputs": [],
   "source": [
    "# Part1\n",
    "df = pd.read_csv('email-Enron.txt', header = None, sep = ' ', dtype = 'int')\n",
    "df.columns = ['sender', 'receiver', 'count']\n",
    "# each entry is counted as weight of 1\n",
    "df['count'] = [1 for i in list(df['count'])]\n",
    "#find the total count\n",
    "df['total'] = df.groupby(['sender', 'receiver'])['count'].transform('sum')\n",
    "df = df.drop_duplicates()\n",
    "df = df.drop(columns=['count']).sort_values(by=['sender', 'receiver'])\n",
    "df = df.reset_index(drop=True)\n",
    "# convert to 0-start format\n",
    "df['sender'] = df['sender'] - 1\n",
    "df['receiver'] = df['receiver'] - 1\n",
    "\n",
    "# load email ref\n",
    "# note: convert to 0-start -> use df.index instead of the provided index\n",
    "ref = pd.read_csv('addresses-email-Enron.txt', header = None, sep = '\\t')\n",
    "ref.columns = ['index', 'email']"
   ]
  },
  {
   "cell_type": "code",
   "execution_count": 49,
   "metadata": {},
   "outputs": [],
   "source": [
    "nx_matrix = 0\n",
    "dct = {}\n",
    "for i in range(len(df)):\n",
    "    dct[(df['sender'][i], df['receiver'][i])] = df['total'][i]\n",
    "dim = max(max(list(df['sender'])), max(list(df['receiver'])))\n",
    "smat = dok_matrix((dim+1, dim+1), dtype=np.int32)\n",
    "smat._update(dct)\n",
    "nx_matrix = nx.from_scipy_sparse_matrix(smat)"
   ]
  },
  {
   "cell_type": "markdown",
   "metadata": {},
   "source": [
    "### Degree Centrality"
   ]
  },
  {
   "cell_type": "code",
   "execution_count": 50,
   "metadata": {},
   "outputs": [
    {
     "name": "stdout",
     "output_type": "stream",
     "text": [
      "The top 5 in degree centrality are:\n",
      "{63: 0.06499261447562778, 7: 0.054955876226186424, 117: 0.054425633450744235, 19: 0.04605537249554975, 54: 0.03666250047343105}\n",
      "The top 5 email addresses are:\n",
      "kenneth.lay@enron.com\n",
      "sally.beck@enron.com\n",
      "jeff.skilling@enron.com\n",
      "jeff.dasovich@enron.com\n",
      "tana.jones@enron.com\n"
     ]
    }
   ],
   "source": [
    "# degree centrality\n",
    "degree_cen = nx.degree_centrality(nx_matrix)\n",
    "top_5_degree_cen = dict(Counter(degree_cen).most_common(5))\n",
    "print('The top 5 in degree centrality are:')\n",
    "print(top_5_degree_cen)\n",
    "print('The top 5 email addresses are:')\n",
    "for i in top_5_degree_cen:\n",
    "    print(ref.iloc[i,1])"
   ]
  },
  {
   "cell_type": "markdown",
   "metadata": {},
   "source": [
    "### Eigenvalue Centrality"
   ]
  },
  {
   "cell_type": "code",
   "execution_count": 51,
   "metadata": {},
   "outputs": [
    {
     "name": "stdout",
     "output_type": "stream",
     "text": [
      "The top 5 in eigenvalue centrality are:\n",
      "{7: 0.21450391371942104, 63: 0.20074487566876778, 62: 0.18434519557675424, 60: 0.16662277772553263, 117: 0.1271250161969232}\n",
      "The top 5 email addresses are:\n",
      "sally.beck@enron.com\n",
      "kenneth.lay@enron.com\n",
      "john.lavorato@enron.com\n",
      "louise.kitchen@enron.com\n",
      "jeff.skilling@enron.com\n"
     ]
    }
   ],
   "source": [
    "# eigenvalue centrality\n",
    "eig_cen = nx.eigenvector_centrality(nx_matrix)\n",
    "top_5_eig_cen = dict(Counter(eig_cen).most_common(5))\n",
    "print('The top 5 in eigenvalue centrality are:')\n",
    "print(top_5_eig_cen)\n",
    "print('The top 5 email addresses are:')\n",
    "for i in top_5_eig_cen:\n",
    "    print(ref.iloc[i,1])"
   ]
  },
  {
   "cell_type": "markdown",
   "metadata": {},
   "source": [
    "### PageRank"
   ]
  },
  {
   "cell_type": "code",
   "execution_count": 52,
   "metadata": {},
   "outputs": [
    {
     "name": "stdout",
     "output_type": "stream",
     "text": [
      "The top 5 in pagerank are:\n",
      "{19: 0.02689591626156109, 117: 0.015046293709587422, 54: 0.013663422293508998, 63: 0.012895544628089402, 7: 0.012312964359850534}\n",
      "The top 5 email addresses are:\n",
      "jeff.dasovich@enron.com\n",
      "jeff.skilling@enron.com\n",
      "tana.jones@enron.com\n",
      "kenneth.lay@enron.com\n",
      "sally.beck@enron.com\n"
     ]
    }
   ],
   "source": [
    "# pagerank\n",
    "pagerank = nx.pagerank(nx_matrix)\n",
    "top_5_pagerank = dict(Counter(pagerank).most_common(5))\n",
    "print('The top 5 in pagerank are:')\n",
    "print(top_5_pagerank)\n",
    "print('The top 5 email addresses are:')\n",
    "for i in top_5_pagerank:\n",
    "    print(ref.iloc[i,1])"
   ]
  },
  {
   "cell_type": "code",
   "execution_count": 45,
   "metadata": {},
   "outputs": [],
   "source": [
    "def nmi_ari(g, comm):\n",
    "    num_nodes = len(g.nodes)\n",
    "    true_label = true_label_reg(g)\n",
    "    pred_label = pred_label_gen(g, num_nodes, comm)\n",
    "    nmi = metrics.adjusted_rand_score(true_label, pred_label)\n",
    "    ari = metrics.normalized_mutual_info_score(true_label, pred_label)\n",
    "    print(f'NMI is: {nmi}')\n",
    "    print(f'ARI is: {ari}')\n",
    "    return nmi, ari\n",
    "\n",
    "def nmi_ari_real_node_label(g, comm, true_label, len_y):\n",
    "    pred_label = pred_label_real_node_label(g, len_y, comm)\n",
    "    nmi = metrics.adjusted_rand_score(true_label, pred_label)\n",
    "    ari = metrics.normalized_mutual_info_score(true_label, pred_label)\n",
    "    print(f'NMI is: {nmi}')\n",
    "    print(f'ARI is: {ari}')\n",
    "    return nmi, ari\n",
    "\n",
    "def nmi_ari_syn(g, comm, true_comm):\n",
    "    num_nodes = len(g.nodes)\n",
    "    true_label = true_label_syn(g, num_nodes, true_comm)\n",
    "    pred_label = pred_label_gen(g, num_nodes, comm)\n",
    "    nmi = metrics.adjusted_rand_score(true_label, pred_label)\n",
    "    ari = metrics.normalized_mutual_info_score(true_label, pred_label)\n",
    "    print(f'NMI is: {nmi}')\n",
    "    print(f'ARI is: {ari}')\n",
    "    return nmi, ari\n",
    "\n",
    "def true_label_reg(g):\n",
    "    true_label = []\n",
    "    for (x,y) in list(g.nodes(data='value')):\n",
    "        true_label.append(y)\n",
    "    return true_label\n",
    "def true_label_syn(g, n, true_comm):\n",
    "    true_label = [None] * n\n",
    "    lst_j = []\n",
    "    for i in range(len(true_comm)):\n",
    "        for j in list(true_comm[i]):\n",
    "            true_label[j] = i\n",
    "    return true_label\n",
    "def pred_label_gen(g, n, comm):\n",
    "    pred_label = [None] * n\n",
    "    for i in range(len(comm)):\n",
    "        for j in comm[i]:\n",
    "            for idx, (k,v) in enumerate(g.nodes(data='value')):\n",
    "                if k == j:\n",
    "                    pred_label[idx] = i\n",
    "    return pred_label\n",
    "\n",
    "def pred_label_real_node_label(g, n, comm):\n",
    "    tmp_pred = [None] * n\n",
    "    pred_label = []\n",
    "    for i in range(len(comm)):\n",
    "        for j in comm[i]:\n",
    "            for idx, (k,v) in enumerate(g.nodes(data='value')):\n",
    "                if k == j:\n",
    "                    tmp_pred[k] = i\n",
    "    for i in range(len(tmp_pred)):\n",
    "        try:\n",
    "            if g.nodes[i] != None:\n",
    "                pred_label.append(tmp_pred[i])\n",
    "        except:\n",
    "            pass\n",
    "    return pred_label\n",
    "\n",
    "def algo1(g):\n",
    "    print('Stats for algorithm 1')\n",
    "    comm1 = nx.algorithms.community.modularity_max.greedy_modularity_communities(g)\n",
    "    #perf1 = nx.algorithms.community.quality.performance(g, comm1)\n",
    "    #print(f'Performance for algorithm 1 is: {perf1}')\n",
    "\n",
    "    mod1 = nx.algorithms.community.quality.modularity(g, comm1)\n",
    "    print(f'Modularity is: {mod1}')\n",
    "    return comm1, mod1\n",
    "\n",
    "def algo2(g):\n",
    "    print('Stats for algorithm 2')\n",
    "    #set up random seed\n",
    "    nprand.seed(2020)\n",
    "    #communities is a dictionary, with key as node and value as group label\n",
    "    #convert to a similar format as comm1 in algo1 in order to perform the same set of analysis\n",
    "    communities =community_louvain.best_partition(g)\n",
    "    lst = [None] * (max([int(i) for i in set(communities.values())])+1)\n",
    "    for (k,v) in communities.items():\n",
    "        if lst[v] == None:\n",
    "            lst[v] = set()\n",
    "            lst[v].add(k)\n",
    "        else:\n",
    "            lst[v].add(k)\n",
    "    comm2 = [frozenset(i) for i in lst]\n",
    "    #perf2 = nx.algorithms.community.quality.performance(g, comm2)\n",
    "    #print(f'Performance for algorithm 2 is: {perf2}')\n",
    "    mod2 = nx.algorithms.community.quality.modularity(g, comm2)\n",
    "    print(f'Modularity is: {mod2}')\n",
    "    return comm2, mod2"
   ]
  },
  {
   "cell_type": "markdown",
   "metadata": {},
   "source": [
    "## Part 2"
   ]
  },
  {
   "cell_type": "code",
   "execution_count": 77,
   "metadata": {},
   "outputs": [],
   "source": [
    "# part2\n",
    "# add multigraph to raw data as suggested by Jacob\n",
    "# set up random seeds\n",
    "random.seed(2020)\n",
    "nprand.seed(2020)"
   ]
  },
  {
   "cell_type": "code",
   "execution_count": 80,
   "metadata": {},
   "outputs": [
    {
     "name": "stdout",
     "output_type": "stream",
     "text": [
      "Stats for algorithm 1\n",
      "Modularity is: 0.5784559455350651\n",
      "NMI is: 0.5363683937383167\n",
      "ARI is: 0.7623978292831058\n",
      "Stats for algorithm 2\n",
      "Modularity is: 0.6054451715248861\n",
      "NMI is: 0.8069408992735126\n",
      "ARI is: 0.8903166312052426\n"
     ]
    }
   ],
   "source": [
    "g = nx.read_gml(\"real-classic/football.gml\")\n",
    "comm1, mod1 = algo1(g)\n",
    "nmi1, ari1 = nmi_ari(g, comm1)\n",
    "comm2, mod2 = algo2(g)\n",
    "nmi2, ari2 = nmi_ari(g, comm2)"
   ]
  },
  {
   "cell_type": "code",
   "execution_count": 81,
   "metadata": {},
   "outputs": [
    {
     "name": "stdout",
     "output_type": "stream",
     "text": [
      "Stats for algorithm 1\n",
      "Modularity is: 0.3806706114398422\n",
      "NMI is: 0.6802559028644982\n",
      "ARI is: 0.6924673268725452\n",
      "Stats for algorithm 2\n",
      "Modularity is: 0.41880341880341876\n",
      "NMI is: 0.4619068770398409\n",
      "ARI is: 0.5866347600965969\n"
     ]
    }
   ],
   "source": [
    "g = nx.read_gml(\"real-classic/karate.gml\")\n",
    "comm1, mod1 = algo1(g)\n",
    "nmi1, ari1 = nmi_ari(g, comm1)\n",
    "comm2, mod2 = algo2(g)\n",
    "nmi2, ari2 = nmi_ari(g, comm2)"
   ]
  },
  {
   "cell_type": "code",
   "execution_count": 85,
   "metadata": {},
   "outputs": [
    {
     "name": "stdout",
     "output_type": "stream",
     "text": [
      "Stats for algorithm 1\n",
      "Modularity is: 0.5019744859395006\n",
      "NMI is: 0.6378969874240916\n",
      "ARI is: 0.5308141953494561\n",
      "Stats for algorithm 2\n",
      "Modularity is: 0.5267969621711117\n",
      "NMI is: 0.5366179378735756\n",
      "ARI is: 0.5219160175536329\n"
     ]
    }
   ],
   "source": [
    "g = nx.read_gml(\"real-classic/polbooks.gml\")\n",
    "comm1, mod1 = algo1(g)\n",
    "nmi1, ari1 = nmi_ari(g, comm1)\n",
    "comm2, mod2 = algo2(g)\n",
    "nmi2, ari2 = nmi_ari(g, comm2)"
   ]
  },
  {
   "cell_type": "code",
   "execution_count": 88,
   "metadata": {},
   "outputs": [
    {
     "name": "stdout",
     "output_type": "stream",
     "text": [
      "Stats for algorithm 1\n",
      "Modularity is: 0.4247974863865875\n",
      "NMI is: 0.5264367965476332\n",
      "ARI is: 0.3771097380954751\n",
      "Stats for algorithm 2\n",
      "Modularity is: 0.4271367757361548\n",
      "NMI is: 0.5208121298411527\n",
      "ARI is: 0.3774608081666019\n"
     ]
    }
   ],
   "source": [
    "# problem with polblogs: how to make the algorithms run with directed graphs?\n",
    "g = nx.read_gml(\"real-classic/polblogs.gml\")\n",
    "g = g.to_undirected()\n",
    "comm1, mod1 = algo1(g)\n",
    "nmi1, ari1 = nmi_ari(g, comm1)\n",
    "comm2, mod2 = algo2(g)\n",
    "nmi2, ari2 = nmi_ari(g, comm2)"
   ]
  },
  {
   "cell_type": "code",
   "execution_count": 89,
   "metadata": {},
   "outputs": [
    {
     "name": "stdout",
     "output_type": "stream",
     "text": [
      "Stats for algorithm 1\n",
      "Modularity is: 0.5557479224376731\n",
      "NMI is: 0.6646619281939129\n",
      "ARI is: 0.7704087582586153\n",
      "Stats for algorithm 2\n",
      "Modularity is: 0.5619806094182825\n",
      "NMI is: 0.79778985286037\n",
      "ARI is: 0.8840698882757506\n"
     ]
    }
   ],
   "source": [
    "g = nx.read_gml(\"real-classic/strike.gml\")\n",
    "comm1, mod1 = algo1(g)\n",
    "nmi1, ari1 = nmi_ari(g, comm1)\n",
    "comm2, mod2 = algo2(g)\n",
    "nmi2, ari2 = nmi_ari(g, comm2)"
   ]
  },
  {
   "cell_type": "code",
   "execution_count": 42,
   "metadata": {},
   "outputs": [],
   "source": [
    "with open(\"real-node-label/ind.citeseer.ally\", 'rb') as handle:\n",
    "    citeseer_y = pickle.load(handle)\n",
    "with open(\"real-node-label/ind.citeseer.graph\", 'rb') as handle:\n",
    "    citeseer_g = pickle.load(handle)\n",
    "with open(\"real-node-label/ind.cora.ally\", 'rb') as handle:\n",
    "    cora_y = pickle.load(handle)\n",
    "with open(\"real-node-label/ind.cora.graph\", 'rb') as handle:\n",
    "    cora_g = pickle.load(handle)\n",
    "with open(\"real-node-label/ind.pubmed.ally\", 'rb') as handle:\n",
    "    pubmed_y = pickle.load(handle)\n",
    "with open(\"real-node-label/ind.pubmed.graph\", 'rb') as handle:\n",
    "    pubmed_g = pickle.load(handle)\n",
    "    \n",
    "# reconstruct adjacency list from .graph\n",
    "# select only the nodes of the first len(.ally)\n",
    "def real_node_label_graph(graph, y):\n",
    "    adj_lst = []\n",
    "    for i in range(len(y)):\n",
    "        for j in graph[i]:\n",
    "            if j < len(y):\n",
    "                adj_lst.append([i,j])\n",
    "    g = nx.Graph(adj_lst)\n",
    "    tmp_label = list(pd.DataFrame(y).idxmax(axis=1))\n",
    "    true_label = []\n",
    "    # deal with empty nodes (discrepancy between length of labels and nodes)\n",
    "    for i in range(len(tmp_label)):\n",
    "        try:\n",
    "            if g.nodes[i] != None:\n",
    "                true_label.append(tmp_label[i])\n",
    "        except:\n",
    "            pass\n",
    "    return g, true_label"
   ]
  },
  {
   "cell_type": "code",
   "execution_count": 43,
   "metadata": {},
   "outputs": [],
   "source": [
    "g, true_label = real_node_label_graph(citeseer_g, citeseer_y)\n",
    "len_y = len(citeseer_y)"
   ]
  },
  {
   "cell_type": "code",
   "execution_count": 102,
   "metadata": {},
   "outputs": [],
   "source": [
    "g, true_label = real_node_label_graph(cora_g, cora_y)"
   ]
  },
  {
   "cell_type": "code",
   "execution_count": 90,
   "metadata": {},
   "outputs": [
    {
     "name": "stdout",
     "output_type": "stream",
     "text": [
      "Stats for algorithm 1\n",
      "Modularity is: 0.9089065838929641\n",
      "NMI is: 0.08054013259087431\n",
      "ARI is: 0.3509691029337047\n",
      "Stats for algorithm 2\n",
      "Modularity is: 0.9145362035409994\n",
      "NMI is: 0.07995403229694974\n",
      "ARI is: 0.3490279675803615\n"
     ]
    }
   ],
   "source": [
    "g, true_label = real_node_label_graph(citeseer_g, citeseer_y)\n",
    "len_y = len(citeseer_y)\n",
    "comm1, mod1 = algo1(g)\n",
    "nmi1, ari1 = nmi_ari_real_node_label(g, comm1, true_label, len_y)\n",
    "comm2, mod2 = algo2(g)\n",
    "nmi2, ari2 = nmi_ari_real_node_label(g, comm2, true_label, len_y)"
   ]
  },
  {
   "cell_type": "code",
   "execution_count": 94,
   "metadata": {},
   "outputs": [
    {
     "name": "stdout",
     "output_type": "stream",
     "text": [
      "Stats for algorithm 1\n",
      "Modularity is: 0.8636915483286761\n",
      "NMI is: 0.20277124873932634\n",
      "ARI is: 0.43546221973475857\n",
      "Stats for algorithm 2\n",
      "Modularity is: 0.8678125192299482\n",
      "NMI is: 0.19197733639887554\n",
      "ARI is: 0.44107890735771155\n"
     ]
    }
   ],
   "source": [
    "g, true_label = real_node_label_graph(cora_g, cora_y)\n",
    "len_y = len(cora_y)\n",
    "comm1, mod1 = algo1(g)\n",
    "nmi1, ari1 = nmi_ari_real_node_label(g, comm1, true_label, len_y)\n",
    "comm2, mod2 = algo2(g)\n",
    "nmi2, ari2 = nmi_ari_real_node_label(g, comm2, true_label, len_y)"
   ]
  },
  {
   "cell_type": "code",
   "execution_count": 96,
   "metadata": {},
   "outputs": [
    {
     "name": "stdout",
     "output_type": "stream",
     "text": [
      "Stats for algorithm 1\n",
      "Modularity is: 0.7222105428953917\n",
      "NMI is: 0.1718371470571651\n",
      "ARI is: 0.2063095862529673\n",
      "Stats for algorithm 2\n",
      "Modularity is: 0.7679702153557562\n",
      "NMI is: 0.07407718830802336\n",
      "ARI is: 0.18333491626672604\n"
     ]
    }
   ],
   "source": [
    "g, true_label = real_node_label_graph(pubmed_g, pubmed_y)\n",
    "len_y = len(pubmed_y)\n",
    "comm1, mod1 = algo1(g)\n",
    "nmi1, ari1 = nmi_ari_real_node_label(g, comm1, true_label, len_y)\n",
    "comm2, mod2 = algo2(g)\n",
    "nmi2, ari2 = nmi_ari_real_node_label(g, comm2, true_label, len_y)"
   ]
  },
  {
   "cell_type": "code",
   "execution_count": 120,
   "metadata": {
    "scrolled": false
   },
   "outputs": [
    {
     "data": {
      "application/vnd.jupyter.widget-view+json": {
       "model_id": "34bfd602ec564eecabb65a2f6a9df37c",
       "version_major": 2,
       "version_minor": 0
      },
      "text/plain": [
       "HBox(children=(FloatProgress(value=0.0, max=9.0), HTML(value='')))"
      ]
     },
     "metadata": {},
     "output_type": "display_data"
    },
    {
     "data": {
      "application/vnd.jupyter.widget-view+json": {
       "model_id": "0d98336ca566418eae3951f2885794c6",
       "version_major": 2,
       "version_minor": 0
      },
      "text/plain": [
       "HBox(children=(FloatProgress(value=0.0, max=10.0), HTML(value='')))"
      ]
     },
     "metadata": {},
     "output_type": "display_data"
    },
    {
     "name": "stdout",
     "output_type": "stream",
     "text": [
      "Stats for algorithm 1\n",
      "Modularity is: 0.8966785266980516\n",
      "NMI is: 0.9906759283161346\n",
      "ARI is: 0.9943872162998936\n",
      "Stats for algorithm 2\n",
      "Modularity is: 0.8956605451781892\n",
      "NMI is: 0.9549022354092248\n",
      "ARI is: 0.9858414957759976\n",
      "Stats for algorithm 1\n",
      "Modularity is: 0.8799483955714017\n",
      "NMI is: 0.955053201618321\n",
      "ARI is: 0.976329151817829\n",
      "Stats for algorithm 2\n",
      "Modularity is: 0.8806387481495381\n",
      "NMI is: 0.9351998517643815\n",
      "ARI is: 0.9644317427114097\n",
      "Stats for algorithm 1\n",
      "Modularity is: 0.8866218211595698\n",
      "NMI is: 0.9874172160531114\n",
      "ARI is: 0.9926281371776312\n",
      "Stats for algorithm 2\n",
      "Modularity is: 0.8836906600242145\n",
      "NMI is: 0.9531073084418161\n",
      "ARI is: 0.9784055485310896\n",
      "Stats for algorithm 1\n",
      "Modularity is: 0.9022946747391842\n",
      "NMI is: 0.9846900517602084\n",
      "ARI is: 0.9921850185984736\n",
      "Stats for algorithm 2\n",
      "Modularity is: 0.897718918198781\n",
      "NMI is: 0.9066047874804504\n",
      "ARI is: 0.9699235119608068\n",
      "Stats for algorithm 1\n",
      "Modularity is: 0.9136484286318294\n",
      "NMI is: 0.966653913007906\n",
      "ARI is: 0.9901763428940733\n",
      "Stats for algorithm 2\n",
      "Modularity is: 0.9122464785220629\n",
      "NMI is: 0.9395294170924731\n",
      "ARI is: 0.983936570839747\n",
      "Stats for algorithm 1\n",
      "Modularity is: 0.9114262880281319\n",
      "NMI is: 0.943230247587193\n",
      "ARI is: 0.986154510305926\n",
      "Stats for algorithm 2\n",
      "Modularity is: 0.9087817382089854\n",
      "NMI is: 0.8773391649270188\n",
      "ARI is: 0.9682642467802539\n",
      "Stats for algorithm 1\n",
      "Modularity is: 0.8962722950952041\n",
      "NMI is: 0.9834457869377522\n",
      "ARI is: 0.988098610473945\n",
      "Stats for algorithm 2\n",
      "Modularity is: 0.8938391068409139\n",
      "NMI is: 0.9551810602568829\n",
      "ARI is: 0.9774094136708816\n",
      "Stats for algorithm 1\n",
      "Modularity is: 0.8489421825602526\n",
      "NMI is: 0.9786902315920927\n",
      "ARI is: 0.9822437554001298\n",
      "Stats for algorithm 2\n",
      "Modularity is: 0.8509547325379468\n",
      "NMI is: 0.9879545742273367\n",
      "ARI is: 0.9882871955973922\n",
      "Stats for algorithm 1\n",
      "Modularity is: 0.879292375917536\n",
      "NMI is: 0.9904336216614494\n",
      "ARI is: 0.9919635429386541\n",
      "Stats for algorithm 2\n",
      "Modularity is: 0.8772672237236305\n",
      "NMI is: 0.9551166001870217\n",
      "ARI is: 0.9781787288087495\n",
      "Stats for algorithm 1\n",
      "Modularity is: 0.9167550922774559\n",
      "NMI is: 0.9159229165103691\n",
      "ARI is: 0.9739228880799399\n",
      "Stats for algorithm 2\n",
      "Modularity is: 0.914512553984722\n",
      "NMI is: 0.9076438192874869\n",
      "ARI is: 0.9661269737065813\n",
      "\n"
     ]
    },
    {
     "data": {
      "application/vnd.jupyter.widget-view+json": {
       "model_id": "71cc2167c0d94bb7ae8446d3823f4272",
       "version_major": 2,
       "version_minor": 0
      },
      "text/plain": [
       "HBox(children=(FloatProgress(value=0.0, max=10.0), HTML(value='')))"
      ]
     },
     "metadata": {},
     "output_type": "display_data"
    },
    {
     "name": "stdout",
     "output_type": "stream",
     "text": [
      "Stats for algorithm 1\n",
      "Modularity is: 0.6964115641805737\n",
      "NMI is: 0.7081835737329706\n",
      "ARI is: 0.7844726685373088\n",
      "Stats for algorithm 2\n",
      "Modularity is: 0.6929246108007058\n",
      "NMI is: 0.7007281899399519\n",
      "ARI is: 0.7677440637069519\n",
      "Stats for algorithm 1\n",
      "Modularity is: 0.7189075439291848\n",
      "NMI is: 0.6896995701323891\n",
      "ARI is: 0.8069702434116032\n",
      "Stats for algorithm 2\n",
      "Modularity is: 0.7215955608402695\n",
      "NMI is: 0.7141080355325113\n",
      "ARI is: 0.8120172635554693\n",
      "Stats for algorithm 1\n",
      "Modularity is: 0.7655285474431919\n",
      "NMI is: 0.5993892737543061\n",
      "ARI is: 0.8258545321025325\n",
      "Stats for algorithm 2\n",
      "Modularity is: 0.7644776664832031\n",
      "NMI is: 0.6368995656631653\n",
      "ARI is: 0.8421587795898365\n",
      "Stats for algorithm 1\n",
      "Modularity is: 0.7261675015076009\n",
      "NMI is: 0.5685851761852646\n",
      "ARI is: 0.7840553851633038\n",
      "Stats for algorithm 2\n",
      "Modularity is: 0.7287241344859385\n",
      "NMI is: 0.667129911377709\n",
      "ARI is: 0.8037432232572366\n",
      "Stats for algorithm 1\n",
      "Modularity is: 0.7470417046607853\n",
      "NMI is: 0.6051465565617863\n",
      "ARI is: 0.8218761156530696\n",
      "Stats for algorithm 2\n",
      "Modularity is: 0.7535108664151262\n",
      "NMI is: 0.6865457697156931\n",
      "ARI is: 0.8401573956574165\n",
      "Stats for algorithm 1\n",
      "Modularity is: 0.7252993296764341\n",
      "NMI is: 0.6173236665204875\n",
      "ARI is: 0.8110354607240462\n",
      "Stats for algorithm 2\n",
      "Modularity is: 0.7361232286677212\n",
      "NMI is: 0.6956044416465811\n",
      "ARI is: 0.8417223804367762\n",
      "Stats for algorithm 1\n",
      "Modularity is: 0.7304202753217643\n",
      "NMI is: 0.6530823158326333\n",
      "ARI is: 0.8167651661596694\n",
      "Stats for algorithm 2\n",
      "Modularity is: 0.7292733968527562\n",
      "NMI is: 0.683158701160424\n",
      "ARI is: 0.8175660202700011\n",
      "Stats for algorithm 1\n",
      "Modularity is: 0.7177587412796433\n",
      "NMI is: 0.542699268768846\n",
      "ARI is: 0.7489905885173542\n",
      "Stats for algorithm 2\n",
      "Modularity is: 0.7253703648352173\n",
      "NMI is: 0.6662909709397178\n",
      "ARI is: 0.7825402624088055\n",
      "Stats for algorithm 1\n",
      "Modularity is: 0.714330470858431\n",
      "NMI is: 0.6383339984770634\n",
      "ARI is: 0.8024573825918201\n",
      "Stats for algorithm 2\n",
      "Modularity is: 0.7304145893518239\n",
      "NMI is: 0.7740994695283749\n",
      "ARI is: 0.8593098681454896\n",
      "Stats for algorithm 1\n",
      "Modularity is: 0.7281497706027666\n",
      "NMI is: 0.6346960353674928\n",
      "ARI is: 0.7902908255378491\n",
      "Stats for algorithm 2\n",
      "Modularity is: 0.7355658368010245\n",
      "NMI is: 0.7127873102382452\n",
      "ARI is: 0.820434023702307\n",
      "\n"
     ]
    },
    {
     "data": {
      "application/vnd.jupyter.widget-view+json": {
       "model_id": "3c26ed76cdf64d919da2940f5365e2b8",
       "version_major": 2,
       "version_minor": 0
      },
      "text/plain": [
       "HBox(children=(FloatProgress(value=0.0, max=10.0), HTML(value='')))"
      ]
     },
     "metadata": {},
     "output_type": "display_data"
    },
    {
     "name": "stdout",
     "output_type": "stream",
     "text": [
      "Stats for algorithm 1\n",
      "Modularity is: 0.5588243898647334\n",
      "NMI is: 0.1708904659167483\n",
      "ARI is: 0.3073538589330477\n",
      "Stats for algorithm 2\n",
      "Modularity is: 0.5651907494849341\n",
      "NMI is: 0.18031947364782086\n",
      "ARI is: 0.3369570854805477\n",
      "Stats for algorithm 1\n",
      "Modularity is: 0.5970433904524999\n",
      "NMI is: 0.12984033480874466\n",
      "ARI is: 0.40192580962910013\n",
      "Stats for algorithm 2\n",
      "Modularity is: 0.5991809567203791\n",
      "NMI is: 0.14053972216614669\n",
      "ARI is: 0.422028827371744\n",
      "Stats for algorithm 1\n",
      "Modularity is: 0.5731229134809004\n",
      "NMI is: 0.12415821377982644\n",
      "ARI is: 0.31590055483947826\n",
      "Stats for algorithm 2\n",
      "Modularity is: 0.5815624337612985\n",
      "NMI is: 0.14561448138395452\n",
      "ARI is: 0.351263004793392\n",
      "Stats for algorithm 1\n",
      "Modularity is: 0.5613285528562548\n",
      "NMI is: 0.18820971942376352\n",
      "ARI is: 0.3438531385869418\n",
      "Stats for algorithm 2\n",
      "Modularity is: 0.56578227435265\n",
      "NMI is: 0.20969563742396194\n",
      "ARI is: 0.37524886652022366\n",
      "Stats for algorithm 1\n",
      "Modularity is: 0.5747359553209538\n",
      "NMI is: 0.1377816437061152\n",
      "ARI is: 0.3504653124280865\n",
      "Stats for algorithm 2\n",
      "Modularity is: 0.5861761240456215\n",
      "NMI is: 0.17157022065500133\n",
      "ARI is: 0.3998589266682564\n",
      "Stats for algorithm 1\n",
      "Modularity is: 0.5828174156845485\n",
      "NMI is: 0.15318493515368903\n",
      "ARI is: 0.38797633590925656\n",
      "Stats for algorithm 2\n",
      "Modularity is: 0.5915379725169935\n",
      "NMI is: 0.1711688317783748\n",
      "ARI is: 0.41269682919445455\n",
      "Stats for algorithm 1\n",
      "Modularity is: 0.5957825902535582\n",
      "NMI is: 0.1205828463605649\n",
      "ARI is: 0.38573642627994476\n",
      "Stats for algorithm 2\n",
      "Modularity is: 0.6031878593646904\n",
      "NMI is: 0.14363653968361983\n",
      "ARI is: 0.43074794395691207\n",
      "Stats for algorithm 1\n",
      "Modularity is: 0.5725453875944024\n",
      "NMI is: 0.10523525892387041\n",
      "ARI is: 0.31701231694908905\n",
      "Stats for algorithm 2\n",
      "Modularity is: 0.581265492020755\n",
      "NMI is: 0.1494414884531086\n",
      "ARI is: 0.38862842710603734\n",
      "Stats for algorithm 1\n",
      "Modularity is: 0.5538929092935817\n",
      "NMI is: 0.19665943799827462\n",
      "ARI is: 0.31849980071146605\n",
      "Stats for algorithm 2\n",
      "Modularity is: 0.552012713281645\n",
      "NMI is: 0.1871467060592133\n",
      "ARI is: 0.320060354688697\n",
      "Stats for algorithm 1\n",
      "Modularity is: 0.5399841712799919\n",
      "NMI is: 0.152346165217914\n",
      "ARI is: 0.28291185274821684\n",
      "Stats for algorithm 2\n",
      "Modularity is: 0.5405735341933051\n",
      "NMI is: 0.16871342215525453\n",
      "ARI is: 0.3152837137760111\n",
      "\n"
     ]
    },
    {
     "data": {
      "application/vnd.jupyter.widget-view+json": {
       "model_id": "13661e380338441380bf39ce023e7977",
       "version_major": 2,
       "version_minor": 0
      },
      "text/plain": [
       "HBox(children=(FloatProgress(value=0.0, max=10.0), HTML(value='')))"
      ]
     },
     "metadata": {},
     "output_type": "display_data"
    },
    {
     "name": "stdout",
     "output_type": "stream",
     "text": [
      "Stats for algorithm 1\n",
      "Modularity is: 0.5465708290129969\n",
      "NMI is: 0.07183864312095364\n",
      "ARI is: 0.25308632435513434\n",
      "Stats for algorithm 2\n",
      "Modularity is: 0.5561877449622254\n",
      "NMI is: 0.09006420677968545\n",
      "ARI is: 0.28637084221377285\n",
      "Stats for algorithm 1\n",
      "Modularity is: 0.5379107542837155\n",
      "NMI is: 0.0961715161324858\n",
      "ARI is: 0.25021898419729677\n",
      "Stats for algorithm 2\n",
      "Modularity is: 0.5432944973228543\n",
      "NMI is: 0.09778382380302396\n",
      "ARI is: 0.2634564037999661\n",
      "Stats for algorithm 1\n",
      "Modularity is: 0.5248452371515392\n",
      "NMI is: 0.0729979944858316\n",
      "ARI is: 0.23892103434336498\n",
      "Stats for algorithm 2\n",
      "Modularity is: 0.5227223675518561\n",
      "NMI is: 0.08093345940937452\n",
      "ARI is: 0.23834355979720803\n",
      "Stats for algorithm 1\n",
      "Modularity is: 0.5347977453185292\n",
      "NMI is: 0.07346282257173513\n",
      "ARI is: 0.24686566514692476\n",
      "Stats for algorithm 2\n",
      "Modularity is: 0.5408286255949258\n",
      "NMI is: 0.0904765313646912\n",
      "ARI is: 0.2688725227149522\n",
      "Stats for algorithm 1\n",
      "Modularity is: 0.47746458693177574\n",
      "NMI is: 0.07610397286580103\n",
      "ARI is: 0.1620185025282912\n",
      "Stats for algorithm 2\n",
      "Modularity is: 0.48151400480817824\n",
      "NMI is: 0.09159388857260588\n",
      "ARI is: 0.1965289717355108\n",
      "Stats for algorithm 1\n",
      "Modularity is: 0.5540432334138622\n",
      "NMI is: 0.04923965288845586\n",
      "ARI is: 0.2213277045065181\n",
      "Stats for algorithm 2\n",
      "Modularity is: 0.5637411488104299\n",
      "NMI is: 0.07234338117283144\n",
      "ARI is: 0.27312208649388864\n",
      "Stats for algorithm 1\n",
      "Modularity is: 0.5420926919558182\n",
      "NMI is: 0.04802782923984486\n",
      "ARI is: 0.22057999978687473\n",
      "Stats for algorithm 2\n",
      "Modularity is: 0.5473280184527395\n",
      "NMI is: 0.06137781142135907\n",
      "ARI is: 0.26153550986766083\n",
      "Stats for algorithm 1\n",
      "Modularity is: 0.5243028892848038\n",
      "NMI is: 0.11823859078602796\n",
      "ARI is: 0.2549290024389072\n",
      "Stats for algorithm 2\n",
      "Modularity is: 0.5257897198885504\n",
      "NMI is: 0.1152348145558785\n",
      "ARI is: 0.2557082822952198\n",
      "Stats for algorithm 1\n",
      "Modularity is: 0.5452660114588675\n",
      "NMI is: 0.06681034272752576\n",
      "ARI is: 0.2443458686504529\n",
      "Stats for algorithm 2\n",
      "Modularity is: 0.5523071566250668\n",
      "NMI is: 0.07298804493407013\n",
      "ARI is: 0.2578357912341399\n",
      "Stats for algorithm 1\n",
      "Modularity is: 0.4895671923654829\n",
      "NMI is: 0.10685575273319203\n",
      "ARI is: 0.1980131950839762\n",
      "Stats for algorithm 2\n",
      "Modularity is: 0.4909235738500771\n",
      "NMI is: 0.0714120802883451\n",
      "ARI is: 0.17966535349459353\n",
      "\n"
     ]
    },
    {
     "data": {
      "application/vnd.jupyter.widget-view+json": {
       "model_id": "a51d22dafb7d4799b26588db0f4236ff",
       "version_major": 2,
       "version_minor": 0
      },
      "text/plain": [
       "HBox(children=(FloatProgress(value=0.0, max=10.0), HTML(value='')))"
      ]
     },
     "metadata": {},
     "output_type": "display_data"
    },
    {
     "name": "stdout",
     "output_type": "stream",
     "text": [
      "Stats for algorithm 1\n",
      "Modularity is: 0.5393203308388678\n",
      "NMI is: 0.03835136951038717\n",
      "ARI is: 0.23189941907678416\n",
      "Stats for algorithm 2\n",
      "Modularity is: 0.5465444806948306\n",
      "NMI is: 0.0415424007306898\n",
      "ARI is: 0.2568415042487027\n",
      "Stats for algorithm 1\n",
      "Modularity is: 0.5350398714866862\n",
      "NMI is: 0.061167387913683605\n",
      "ARI is: 0.23396493615622044\n",
      "Stats for algorithm 2\n",
      "Modularity is: 0.543531458025148\n",
      "NMI is: 0.06603267262040476\n",
      "ARI is: 0.24501336850670177\n",
      "Stats for algorithm 1\n",
      "Modularity is: 0.466254614917403\n",
      "NMI is: 0.02720228346635297\n",
      "ARI is: 0.10830354968561258\n",
      "Stats for algorithm 2\n",
      "Modularity is: 0.4706890988101925\n",
      "NMI is: 0.035761817485239114\n",
      "ARI is: 0.11632762726384371\n",
      "Stats for algorithm 1\n",
      "Modularity is: 0.5335678962291082\n",
      "NMI is: 0.043655891886314184\n",
      "ARI is: 0.23471309671920054\n",
      "Stats for algorithm 2\n",
      "Modularity is: 0.5315082543759397\n",
      "NMI is: 0.04936084501016608\n",
      "ARI is: 0.2654135630193713\n",
      "Stats for algorithm 1\n",
      "Modularity is: 0.5266014130059289\n",
      "NMI is: 0.036871780324765416\n",
      "ARI is: 0.2157454716599028\n",
      "Stats for algorithm 2\n",
      "Modularity is: 0.5354117887462284\n",
      "NMI is: 0.04654148609747103\n",
      "ARI is: 0.23797595324513607\n",
      "Stats for algorithm 1\n",
      "Modularity is: 0.5053580417769032\n",
      "NMI is: 0.04102092557091362\n",
      "ARI is: 0.20158797818281252\n",
      "Stats for algorithm 2\n",
      "Modularity is: 0.5060937886913683\n",
      "NMI is: 0.04456827188536563\n",
      "ARI is: 0.20453739784557848\n",
      "Stats for algorithm 1\n",
      "Modularity is: 0.510830010733314\n",
      "NMI is: 0.06546569684505746\n",
      "ARI is: 0.19941767822326673\n",
      "Stats for algorithm 2\n",
      "Modularity is: 0.5050179452633208\n",
      "NMI is: 0.05493387032493165\n",
      "ARI is: 0.2094953608751529\n",
      "Stats for algorithm 1\n",
      "Modularity is: 0.5208352471875174\n",
      "NMI is: 0.046861528175508836\n",
      "ARI is: 0.20593705250069355\n",
      "Stats for algorithm 2\n",
      "Modularity is: 0.5225987902086041\n",
      "NMI is: 0.0437970874673399\n",
      "ARI is: 0.2053422209209356\n",
      "Stats for algorithm 1\n",
      "Modularity is: 0.5190336541956486\n",
      "NMI is: 0.07913452149223607\n",
      "ARI is: 0.25234610127132273\n",
      "Stats for algorithm 2\n",
      "Modularity is: 0.5282675818738698\n",
      "NMI is: 0.09683244043152414\n",
      "ARI is: 0.2825996165810118\n",
      "Stats for algorithm 1\n",
      "Modularity is: 0.5368624855037362\n",
      "NMI is: 0.038424686354407114\n",
      "ARI is: 0.21650955168777808\n",
      "Stats for algorithm 2\n",
      "Modularity is: 0.5361939829494576\n",
      "NMI is: 0.05067408519133723\n",
      "ARI is: 0.24453133271264998\n",
      "\n"
     ]
    },
    {
     "data": {
      "application/vnd.jupyter.widget-view+json": {
       "model_id": "5f6972351b1249a7ae5dabb63e0a23c7",
       "version_major": 2,
       "version_minor": 0
      },
      "text/plain": [
       "HBox(children=(FloatProgress(value=0.0, max=10.0), HTML(value='')))"
      ]
     },
     "metadata": {},
     "output_type": "display_data"
    },
    {
     "name": "stdout",
     "output_type": "stream",
     "text": [
      "Stats for algorithm 1\n",
      "Modularity is: 0.4843813866021883\n",
      "NMI is: 0.01104832988132333\n",
      "ARI is: 0.09906935246694566\n",
      "Stats for algorithm 2\n",
      "Modularity is: 0.4901053512322293\n",
      "NMI is: 0.016251238917255745\n",
      "ARI is: 0.11457264070370073\n",
      "Stats for algorithm 1\n",
      "Modularity is: 0.5054149797244537\n",
      "NMI is: 0.0197782806172986\n",
      "ARI is: 0.15062293829903914\n",
      "Stats for algorithm 2\n",
      "Modularity is: 0.5083816767609162\n",
      "NMI is: 0.018944564036899945\n",
      "ARI is: 0.15566728121338563\n",
      "Stats for algorithm 1\n",
      "Modularity is: 0.48912209024234693\n",
      "NMI is: 0.01896739755906418\n",
      "ARI is: 0.11900960183304368\n",
      "Stats for algorithm 2\n",
      "Modularity is: 0.4906415417729592\n",
      "NMI is: 0.015976089265256864\n",
      "ARI is: 0.12331666396093606\n",
      "Stats for algorithm 1\n",
      "Modularity is: 0.481889090907709\n",
      "NMI is: 0.017089023489549663\n",
      "ARI is: 0.13592427727470843\n",
      "Stats for algorithm 2\n",
      "Modularity is: 0.48951987254571827\n",
      "NMI is: 0.020585915093358262\n",
      "ARI is: 0.17045051909990688\n",
      "Stats for algorithm 1\n",
      "Modularity is: 0.49628767487359254\n",
      "NMI is: 0.01555044264732175\n",
      "ARI is: 0.12658315320554714\n",
      "Stats for algorithm 2\n",
      "Modularity is: 0.503306836142709\n",
      "NMI is: 0.02555570330970874\n",
      "ARI is: 0.1443239239225777\n",
      "Stats for algorithm 1\n",
      "Modularity is: 0.5047944889591225\n",
      "NMI is: 0.01977430453662633\n",
      "ARI is: 0.14223558086016985\n",
      "Stats for algorithm 2\n",
      "Modularity is: 0.5179424052197039\n",
      "NMI is: 0.02555506341800189\n",
      "ARI is: 0.16706575882525113\n",
      "Stats for algorithm 1\n",
      "Modularity is: 0.5273821810578239\n",
      "NMI is: 0.027913215384420504\n",
      "ARI is: 0.2003498574284977\n",
      "Stats for algorithm 2\n",
      "Modularity is: 0.5345670685237879\n",
      "NMI is: 0.02400030379733568\n",
      "ARI is: 0.19244184814593582\n",
      "Stats for algorithm 1\n",
      "Modularity is: 0.523907473755561\n",
      "NMI is: 0.018120309056758113\n",
      "ARI is: 0.18040532808444076\n",
      "Stats for algorithm 2\n",
      "Modularity is: 0.5284024356206675\n",
      "NMI is: 0.025293730764663822\n",
      "ARI is: 0.21349207154370972\n",
      "Stats for algorithm 1\n",
      "Modularity is: 0.5291879460874094\n",
      "NMI is: 0.016853833104224874\n",
      "ARI is: 0.14261849902106222\n",
      "Stats for algorithm 2\n",
      "Modularity is: 0.5276717067052022\n",
      "NMI is: 0.016844786506357068\n",
      "ARI is: 0.13811075403376308\n",
      "Stats for algorithm 1\n",
      "Modularity is: 0.5209030623809541\n",
      "NMI is: 0.015895968659587624\n",
      "ARI is: 0.16113752739216958\n",
      "Stats for algorithm 2\n",
      "Modularity is: 0.5257101395098875\n",
      "NMI is: 0.019216694268556336\n",
      "ARI is: 0.18565868736157126\n",
      "\n"
     ]
    },
    {
     "data": {
      "application/vnd.jupyter.widget-view+json": {
       "model_id": "75eb05b7402446d18bcc43224622e39c",
       "version_major": 2,
       "version_minor": 0
      },
      "text/plain": [
       "HBox(children=(FloatProgress(value=0.0, max=10.0), HTML(value='')))"
      ]
     },
     "metadata": {},
     "output_type": "display_data"
    },
    {
     "name": "stdout",
     "output_type": "stream",
     "text": [
      "Stats for algorithm 1\n",
      "Modularity is: 0.5068664047685028\n",
      "NMI is: 0.012822069545182502\n",
      "ARI is: 0.1368056213713908\n",
      "Stats for algorithm 2\n",
      "Modularity is: 0.513693687819562\n",
      "NMI is: 0.013104276376215149\n",
      "ARI is: 0.15627834917628414\n",
      "Stats for algorithm 1\n",
      "Modularity is: 0.4605124059999338\n",
      "NMI is: 0.0024725526657272444\n",
      "ARI is: 0.07976266399349456\n",
      "Stats for algorithm 2\n",
      "Modularity is: 0.45647825031959444\n",
      "NMI is: 0.001080191954276233\n",
      "ARI is: 0.07519095391662593\n",
      "Stats for algorithm 1\n",
      "Modularity is: 0.5125046687843104\n",
      "NMI is: 0.012548897050757082\n",
      "ARI is: 0.13683012697212793\n",
      "Stats for algorithm 2\n",
      "Modularity is: 0.5114633747270666\n",
      "NMI is: 0.018368634003879423\n",
      "ARI is: 0.16538416358085967\n",
      "Stats for algorithm 1\n",
      "Modularity is: 0.4912172800880514\n",
      "NMI is: 0.010303689920852867\n",
      "ARI is: 0.09885267623242149\n",
      "Stats for algorithm 2\n",
      "Modularity is: 0.4947365846450173\n",
      "NMI is: 0.01278835205964486\n",
      "ARI is: 0.12427961678910411\n",
      "Stats for algorithm 1\n",
      "Modularity is: 0.5129564167453387\n",
      "NMI is: 0.012926655189875595\n",
      "ARI is: 0.1637281478164522\n",
      "Stats for algorithm 2\n",
      "Modularity is: 0.5225165670970879\n",
      "NMI is: 0.01909879544727418\n",
      "ARI is: 0.19873920321340874\n",
      "Stats for algorithm 1\n",
      "Modularity is: 0.4749022571878923\n",
      "NMI is: 0.009047549288050774\n",
      "ARI is: 0.08755967537129312\n",
      "Stats for algorithm 2\n",
      "Modularity is: 0.47252732787454765\n",
      "NMI is: 0.014406562453552962\n",
      "ARI is: 0.10693029001812906\n",
      "Stats for algorithm 1\n",
      "Modularity is: 0.47020534499233757\n",
      "NMI is: 0.011714214298854395\n",
      "ARI is: 0.1215670326642717\n",
      "Stats for algorithm 2\n",
      "Modularity is: 0.46814586885751297\n",
      "NMI is: 0.01877416007729501\n",
      "ARI is: 0.1432051377699139\n",
      "Stats for algorithm 1\n",
      "Modularity is: 0.5156485945347369\n",
      "NMI is: 0.011555533311632471\n",
      "ARI is: 0.12430575723810142\n",
      "Stats for algorithm 2\n",
      "Modularity is: 0.5167733137258886\n",
      "NMI is: 0.008905726647433597\n",
      "ARI is: 0.14121970550815166\n",
      "Stats for algorithm 1\n",
      "Modularity is: 0.4951973949980505\n",
      "NMI is: 0.01166944539592907\n",
      "ARI is: 0.1402712745236696\n",
      "Stats for algorithm 2\n",
      "Modularity is: 0.5041742894689375\n",
      "NMI is: 0.022558717984695734\n",
      "ARI is: 0.19096825243375454\n",
      "Stats for algorithm 1\n",
      "Modularity is: 0.49710046908043515\n",
      "NMI is: 0.014750946519673154\n",
      "ARI is: 0.15972584146331328\n",
      "Stats for algorithm 2\n",
      "Modularity is: 0.5089195114528562\n",
      "NMI is: 0.013877759656968289\n",
      "ARI is: 0.16848907255748952\n",
      "\n"
     ]
    },
    {
     "data": {
      "application/vnd.jupyter.widget-view+json": {
       "model_id": "e0197b166bf04cf08c27fc4e24d7cc34",
       "version_major": 2,
       "version_minor": 0
      },
      "text/plain": [
       "HBox(children=(FloatProgress(value=0.0, max=10.0), HTML(value='')))"
      ]
     },
     "metadata": {},
     "output_type": "display_data"
    },
    {
     "name": "stdout",
     "output_type": "stream",
     "text": [
      "Stats for algorithm 1\n",
      "Modularity is: 0.49574179092108844\n",
      "NMI is: 0.002018704537835526\n",
      "ARI is: 0.08040367631354524\n",
      "Stats for algorithm 2\n",
      "Modularity is: 0.5011515184089838\n",
      "NMI is: -0.001368245277301217\n",
      "ARI is: 0.06800463786007663\n",
      "Stats for algorithm 1\n",
      "Modularity is: 0.5184548542200031\n",
      "NMI is: 0.0008752836343629157\n",
      "ARI is: 0.13968051096034734\n",
      "Stats for algorithm 2\n",
      "Modularity is: 0.5113507620074281\n",
      "NMI is: 0.0020641577185713613\n",
      "ARI is: 0.15360520139102993\n",
      "Stats for algorithm 1\n",
      "Modularity is: 0.48156826235157596\n",
      "NMI is: 0.004597015252736733\n",
      "ARI is: 0.07537700560149142\n",
      "Stats for algorithm 2\n",
      "Modularity is: 0.4884694306861453\n",
      "NMI is: -0.0011580460951876653\n",
      "ARI is: 0.058442839522812574\n",
      "Stats for algorithm 1\n",
      "Modularity is: 0.4973685056584362\n",
      "NMI is: 0.002066462604816049\n",
      "ARI is: 0.09865756861484959\n",
      "Stats for algorithm 2\n",
      "Modularity is: 0.4982976466049382\n",
      "NMI is: 0.003970736673983332\n",
      "ARI is: 0.10159482631471717\n",
      "Stats for algorithm 1\n",
      "Modularity is: 0.4951585623723834\n",
      "NMI is: 0.0012169320789685867\n",
      "ARI is: 0.10306914256661125\n",
      "Stats for algorithm 2\n",
      "Modularity is: 0.5002486871519902\n",
      "NMI is: -5.320227793173632e-05\n",
      "ARI is: 0.09299871598060445\n",
      "Stats for algorithm 1\n",
      "Modularity is: 0.5151538031967123\n",
      "NMI is: 0.0022008067234597244\n",
      "ARI is: 0.10029655762900974\n",
      "Stats for algorithm 2\n",
      "Modularity is: 0.5154992494135434\n",
      "NMI is: 0.0016524212372438002\n",
      "ARI is: 0.09404204784389357\n",
      "Stats for algorithm 1\n",
      "Modularity is: 0.5196700078423684\n",
      "NMI is: 0.0013715170205539139\n",
      "ARI is: 0.0975584075764658\n",
      "Stats for algorithm 2\n",
      "Modularity is: 0.5236438829526517\n",
      "NMI is: 0.0009195069336182291\n",
      "ARI is: 0.13108299577736598\n",
      "Stats for algorithm 1\n",
      "Modularity is: 0.4779800680221063\n",
      "NMI is: 2.3332925072803668e-05\n",
      "ARI is: 0.08076681052482988\n",
      "Stats for algorithm 2\n",
      "Modularity is: 0.4889105856955029\n",
      "NMI is: 0.002486977706607471\n",
      "ARI is: 0.08727028219166812\n",
      "Stats for algorithm 1\n",
      "Modularity is: 0.49398845180580314\n",
      "NMI is: -1.9338718831835032e-05\n",
      "ARI is: 0.06026848668456601\n",
      "Stats for algorithm 2\n",
      "Modularity is: 0.5004510809409112\n",
      "NMI is: -0.003119638597885638\n",
      "ARI is: 0.05845611134161203\n",
      "Stats for algorithm 1\n",
      "Modularity is: 0.4913283106586118\n",
      "NMI is: -0.002025730402013666\n",
      "ARI is: 0.06465820096480429\n",
      "Stats for algorithm 2\n",
      "Modularity is: 0.4944553797810068\n",
      "NMI is: -0.0019937630875143603\n",
      "ARI is: 0.05644193660580074\n",
      "\n"
     ]
    },
    {
     "data": {
      "application/vnd.jupyter.widget-view+json": {
       "model_id": "337ee16128794f41bf206446a75b9fc3",
       "version_major": 2,
       "version_minor": 0
      },
      "text/plain": [
       "HBox(children=(FloatProgress(value=0.0, max=10.0), HTML(value='')))"
      ]
     },
     "metadata": {},
     "output_type": "display_data"
    },
    {
     "name": "stdout",
     "output_type": "stream",
     "text": [
      "Stats for algorithm 1\n",
      "Modularity is: 0.5112355875300669\n",
      "NMI is: -0.0014369573759881972\n",
      "ARI is: 0.08384902947583227\n",
      "Stats for algorithm 2\n",
      "Modularity is: 0.5163540824230679\n",
      "NMI is: -0.0023308293272479266\n",
      "ARI is: 0.08508322667027361\n",
      "Stats for algorithm 1\n",
      "Modularity is: 0.5011174279426622\n",
      "NMI is: -0.0016428645509609934\n",
      "ARI is: 0.09514244695587588\n",
      "Stats for algorithm 2\n",
      "Modularity is: 0.5003417408018529\n",
      "NMI is: -0.0014197520921859547\n",
      "ARI is: 0.08948542682879038\n",
      "Stats for algorithm 1\n",
      "Modularity is: 0.5127691614275148\n",
      "NMI is: -0.0022877748720286258\n",
      "ARI is: 0.06317091716282208\n",
      "Stats for algorithm 2\n",
      "Modularity is: 0.5111872457470414\n",
      "NMI is: -0.0032864296296408186\n",
      "ARI is: 0.06871900212858421\n",
      "Stats for algorithm 1\n",
      "Modularity is: 0.4916669928922537\n",
      "NMI is: -0.002208627854488203\n",
      "ARI is: 0.09528918647593694\n",
      "Stats for algorithm 2\n",
      "Modularity is: 0.5004335963562588\n",
      "NMI is: -0.001060635119071866\n",
      "ARI is: 0.10909917330782357\n",
      "Stats for algorithm 1\n",
      "Modularity is: 0.5166594757372169\n",
      "NMI is: -0.0010720918750742414\n",
      "ARI is: 0.12356133811276063\n",
      "Stats for algorithm 2\n",
      "Modularity is: 0.526950209417476\n",
      "NMI is: -0.002892128005813515\n",
      "ARI is: 0.129179773477848\n",
      "Stats for algorithm 1\n",
      "Modularity is: 0.4890196909129001\n",
      "NMI is: -0.0012595567904514597\n",
      "ARI is: 0.07607042653030913\n",
      "Stats for algorithm 2\n",
      "Modularity is: 0.49185022268328277\n",
      "NMI is: -0.002325588250250456\n",
      "ARI is: 0.07439351331832786\n",
      "Stats for algorithm 1\n",
      "Modularity is: 0.5144718292995983\n",
      "NMI is: 0.00010829280827351826\n",
      "ARI is: 0.0898563077205364\n",
      "Stats for algorithm 2\n",
      "Modularity is: 0.5157345962743209\n",
      "NMI is: -0.002946857259167032\n",
      "ARI is: 0.0819663672470713\n",
      "Stats for algorithm 1\n",
      "Modularity is: 0.48698263292531685\n",
      "NMI is: -0.0011129673353021334\n",
      "ARI is: 0.05333727061693147\n",
      "Stats for algorithm 2\n",
      "Modularity is: 0.48762283300730075\n",
      "NMI is: -0.0014831523514310528\n",
      "ARI is: 0.055675603465807216\n",
      "Stats for algorithm 1\n",
      "Modularity is: 0.4961271087115905\n",
      "NMI is: -0.0026680432411751625\n",
      "ARI is: 0.06679006476222489\n",
      "Stats for algorithm 2\n",
      "Modularity is: 0.4949669085883637\n",
      "NMI is: -0.0019853898816701633\n",
      "ARI is: 0.06539588560565597\n",
      "Stats for algorithm 1\n",
      "Modularity is: 0.5004708093746141\n",
      "NMI is: -0.0017613696542178806\n",
      "ARI is: 0.10473737890594587\n",
      "Stats for algorithm 2\n",
      "Modularity is: 0.5094970245735844\n",
      "NMI is: 0.0002701188300855735\n",
      "ARI is: 0.12109006751008253\n",
      "\n",
      "\n"
     ]
    }
   ],
   "source": [
    "# synthetic graph by LFR\n",
    "# see instruction for param setting\n",
    "# save performance measures (modularity, NMI, ARI) as list of list for plotting\n",
    "mu_list = np.arange(0.1, 1.0, 0.1)\n",
    "mod1_total = []\n",
    "nmi1_total = []\n",
    "ari1_total = []\n",
    "mod2_total = []\n",
    "nmi2_total = []\n",
    "ari2_total = []\n",
    "for curr_mu in tqdm(mu_list):\n",
    "    mod1_lst = []\n",
    "    nmi1_lst = []\n",
    "    ari1_lst = []\n",
    "    mod2_lst = []\n",
    "    nmi2_lst = []\n",
    "    ari2_lst = []\n",
    "    for i in trange(10):\n",
    "        # with the designated setting, the exceptions may often occur ('Could not assign communities')\n",
    "        # try until valid communities are assigned\n",
    "        g = 0\n",
    "        while(g==0):\n",
    "            try:\n",
    "                g = nx.generators.community.LFR_benchmark_graph(mu= curr_mu, n=1000, tau1 = 3, tau2 = 1.5, average_degree=5, min_community=20)\n",
    "            except:\n",
    "                pass\n",
    "        communities = {frozenset(g.nodes[v][\"community\"]) for v in g}\n",
    "        true_comm = list(communities)\n",
    "        comm1, mod1 = algo1(g)\n",
    "        nmi1, ari1 = nmi_ari_syn(g, comm1, true_comm)\n",
    "        comm2, mod2 = algo2(g)\n",
    "        nmi2, ari2 = nmi_ari_syn(g, comm2, true_comm)\n",
    "        mod1_lst.append(mod1)\n",
    "        nmi1_lst.append(nmi1)\n",
    "        ari1_lst.append(ari1)\n",
    "        mod2_lst.append(mod2)\n",
    "        nmi2_lst.append(nmi2)\n",
    "        ari2_lst.append(ari2)\n",
    "    mod1_total.append(mod1_lst)\n",
    "    nmi1_total.append(nmi1_lst)\n",
    "    ari1_total.append(ari1_lst)\n",
    "    mod2_total.append(mod2_lst)\n",
    "    nmi2_total.append(nmi2_lst)\n",
    "    ari2_total.append(ari2_lst)"
   ]
  },
  {
   "cell_type": "code",
   "execution_count": 124,
   "metadata": {
    "scrolled": true
   },
   "outputs": [],
   "source": [
    "score = [mod1_total, nmi1_total, ari1_total, mod2_total, nmi2_total, ari2_total]\n",
    "with open(f'syn_score.pkl', 'wb') as handle:\n",
    "    pickle.dump(score, handle)"
   ]
  },
  {
   "cell_type": "code",
   "execution_count": 97,
   "metadata": {},
   "outputs": [],
   "source": [
    "with open(f'syn_score.pkl', 'rb') as handle:\n",
    "    test = pickle.load(handle)"
   ]
  },
  {
   "cell_type": "code",
   "execution_count": 105,
   "metadata": {},
   "outputs": [],
   "source": [
    "avg_full = []\n",
    "for i in range(len(test)):\n",
    "    avg_lst = []\n",
    "    for j in range(len(test[i])):\n",
    "        avg = sum(test[i][j])/len(test[i][j])\n",
    "        avg_lst.append(avg)\n",
    "    avg_full.append(avg_lst)"
   ]
  },
  {
   "cell_type": "code",
   "execution_count": 123,
   "metadata": {},
   "outputs": [
    {
     "data": {
      "image/png": "[encoded data removed]",
      "text/plain": [
       "<Figure size 432x288 with 1 Axes>"
      ]
     },
     "metadata": {
      "needs_background": "light"
     },
     "output_type": "display_data"
    }
   ],
   "source": [
    "x = np.arange(0.1, 1.0, 0.1)\n",
    "fig, ax = plt.subplots()\n",
    "ax.plot(x, avg_full[0], '-b', label='MOD1')\n",
    "ax.plot(x, avg_full[3], '-r', label='MOD2')\n",
    "plt.xlabel('mu')\n",
    "plt.ylabel('MOD')\n",
    "#ax.axis('equal')\n",
    "leg = ax.legend()\n",
    "fig.savefig('MOD.jpg')"
   ]
  },
  {
   "cell_type": "code",
   "execution_count": 124,
   "metadata": {},
   "outputs": [
    {
     "data": {
      "image/png": "[encoded data removed]",
      "text/plain": [
       "<Figure size 432x288 with 1 Axes>"
      ]
     },
     "metadata": {
      "needs_background": "light"
     },
     "output_type": "display_data"
    }
   ],
   "source": [
    "x = np.arange(0.1, 1.0, 0.1)\n",
    "fig, ax = plt.subplots()\n",
    "ax.plot(x, avg_full[1], '-b', label='NMI1')\n",
    "ax.plot(x, avg_full[4], '-r', label='NMI2')\n",
    "plt.xlabel('mu')\n",
    "plt.ylabel('NMI')\n",
    "#ax.axis('equal')\n",
    "leg = ax.legend()\n",
    "fig.savefig('NMI.jpg')"
   ]
  },
  {
   "cell_type": "code",
   "execution_count": 125,
   "metadata": {},
   "outputs": [
    {
     "data": {
      "image/png": "[encoded data removed]",
      "text/plain": [
       "<Figure size 432x288 with 1 Axes>"
      ]
     },
     "metadata": {
      "needs_background": "light"
     },
     "output_type": "display_data"
    }
   ],
   "source": [
    "x = np.arange(0.1, 1.0, 0.1)\n",
    "fig, ax = plt.subplots()\n",
    "ax.plot(x, avg_full[2], '-b', label='ARI1')\n",
    "ax.plot(x, avg_full[5], '-r', label='ARI2')\n",
    "plt.xlabel('mu')\n",
    "plt.ylabel('ARI')\n",
    "#ax.axis('equal')\n",
    "leg = ax.legend()\n",
    "fig.savefig('ARI.jpg')"
   ]
  },
  {
   "cell_type": "code",
   "execution_count": 127,
   "metadata": {},
   "outputs": [
    {
     "name": "stdout",
     "output_type": "stream",
     "text": [
      "0.5821094765427389\n",
      "0.21086589381996695\n",
      "0.3347014414807653\n",
      "0.5857038843520933\n",
      "0.21874620284061885\n",
      "0.3478700276188864\n"
     ]
    }
   ],
   "source": [
    "#print average performace\n",
    "for i in avg_full:\n",
    "    print(sum(i)/len(i))"
   ]
  }
 ],
 "metadata": {
  "kernelspec": {
   "display_name": "Python 3",
   "language": "python",
   "name": "python3"
  },
  "language_info": {
   "codemirror_mode": {
    "name": "ipython",
    "version": 3
   },
   "file_extension": ".py",
   "mimetype": "text/x-python",
   "name": "python",
   "nbconvert_exporter": "python",
   "pygments_lexer": "ipython3",
   "version": "3.7.4"
  }
 },
 "nbformat": 4,
 "nbformat_minor": 4
}
